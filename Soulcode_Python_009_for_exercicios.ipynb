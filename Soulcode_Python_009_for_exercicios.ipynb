{
  "nbformat": 4,
  "nbformat_minor": 0,
  "metadata": {
    "colab": {
      "name": "Soulcode_Python_009_for_exercicios.ipynb",
      "provenance": [],
      "collapsed_sections": [],
      "authorship_tag": "ABX9TyPQgslqHRU2fnOtItFhNgw8",
      "include_colab_link": true
    },
    "kernelspec": {
      "name": "python3",
      "display_name": "Python 3"
    },
    "language_info": {
      "name": "python"
    }
  },
  "cells": [
    {
      "cell_type": "markdown",
      "metadata": {
        "id": "view-in-github",
        "colab_type": "text"
      },
      "source": [
        "<a href=\"https://colab.research.google.com/github/victorog17/soulcode_aulas_python/blob/main/Soulcode_Python_009_for_exercicios.ipynb\" target=\"_parent\"><img src=\"https://colab.research.google.com/assets/colab-badge.svg\" alt=\"Open In Colab\"/></a>"
      ]
    },
    {
      "cell_type": "markdown",
      "metadata": {
        "id": "xOnQEeL3Z2MW"
      },
      "source": [
        "1) Crie um programa em Python que escreva na tela os números de 250 a 120 em ordem decrescente."
      ]
    },
    {
      "cell_type": "code",
      "metadata": {
        "colab": {
          "base_uri": "https://localhost:8080/"
        },
        "id": "E08BphVtZudb",
        "outputId": "6756ef0b-9bd1-46de-ae59-2a48d6b6c12a"
      },
      "source": [
        "for i in range(250, 120 - 1, -1):\n",
        "  print(i, end=' ')"
      ],
      "execution_count": null,
      "outputs": [
        {
          "output_type": "stream",
          "name": "stdout",
          "text": [
            "250 249 248 247 246 245 244 243 242 241 240 239 238 237 236 235 234 233 232 231 230 229 228 227 226 225 224 223 222 221 220 219 218 217 216 215 214 213 212 211 210 209 208 207 206 205 204 203 202 201 200 199 198 197 196 195 194 193 192 191 190 189 188 187 186 185 184 183 182 181 180 179 178 177 176 175 174 173 172 171 170 169 168 167 166 165 164 163 162 161 160 159 158 157 156 155 154 153 152 151 150 149 148 147 146 145 144 143 142 141 140 139 138 137 136 135 134 133 132 131 130 129 128 127 126 125 124 123 122 121 120 "
          ]
        }
      ]
    },
    {
      "cell_type": "markdown",
      "metadata": {
        "id": "yMgklXeQbyUw"
      },
      "source": [
        "2) Em uma turma há 10 alunos. Cada aluno tem 2 notas. Um professor precisa calcular a média das duas notas de cada aluno. Crie um programa que resolva este problema."
      ]
    },
    {
      "cell_type": "code",
      "metadata": {
        "colab": {
          "base_uri": "https://localhost:8080/"
        },
        "id": "-8jvSyXBby9N",
        "outputId": "2e5ce541-ae9d-4823-cbd5-67380b6665ad"
      },
      "source": [
        "cont = 1\n",
        "\n",
        "for i in range(10):\n",
        "  n1 = float(input(f'Insira a primeira nota do {cont}º aluno: '))\n",
        "  n2 = float(input(f'Insira a segunda nota do {cont}º aluno: '))\n",
        "  while n1 < 0 or n1 > 10 or n2 < 0 or n2 > 10:\n",
        "    print('Insira notas entre 0 e 10')\n",
        "    n1 = float(input(f'Insira a primeira nota do {cont}º aluno: '))\n",
        "    n2 = float(input(f'Insira a segunda nota do {cont}º aluno: '))\n",
        "  media = (n1 + n2) / 2\n",
        "  print(f'A média do {cont}º aluno é {media:.2f}')\n",
        "  cont += 1"
      ],
      "execution_count": null,
      "outputs": [
        {
          "output_type": "stream",
          "name": "stdout",
          "text": [
            "Insira a primeira nota do 1º aluno: 10\n",
            "Insira a segunda nota do 1º aluno: 5\n",
            "A média do 1º aluno é 7.50\n",
            "Insira a primeira nota do 2º aluno: 11\n",
            "Insira a segunda nota do 2º aluno: 6\n",
            "Insira notas entre 0 e 10\n",
            "Insira a primeira nota do 2º aluno: 9\n",
            "Insira a segunda nota do 2º aluno: 9\n",
            "A média do 2º aluno é 9.00\n",
            "Insira a primeira nota do 3º aluno: 9\n",
            "Insira a segunda nota do 3º aluno: 9\n",
            "A média do 3º aluno é 9.00\n",
            "Insira a primeira nota do 4º aluno: 8\n",
            "Insira a segunda nota do 4º aluno: 7\n",
            "A média do 4º aluno é 7.50\n",
            "Insira a primeira nota do 5º aluno: 7\n",
            "Insira a segunda nota do 5º aluno: 6\n",
            "A média do 5º aluno é 6.50\n",
            "Insira a primeira nota do 6º aluno: 5\n",
            "Insira a segunda nota do 6º aluno: 9\n",
            "A média do 6º aluno é 7.00\n",
            "Insira a primeira nota do 7º aluno: 8\n",
            "Insira a segunda nota do 7º aluno: 6\n",
            "A média do 7º aluno é 7.00\n",
            "Insira a primeira nota do 8º aluno: 3\n",
            "Insira a segunda nota do 8º aluno: 7\n",
            "A média do 8º aluno é 5.00\n",
            "Insira a primeira nota do 9º aluno: -2\n",
            "Insira a segunda nota do 9º aluno: 8\n",
            "Insira notas entre 0 e 10\n",
            "Insira a primeira nota do 9º aluno: 8\n",
            "Insira a segunda nota do 9º aluno: 8\n",
            "A média do 9º aluno é 8.00\n",
            "Insira a primeira nota do 10º aluno: 8\n",
            "Insira a segunda nota do 10º aluno: 8\n",
            "A média do 10º aluno é 8.00\n"
          ]
        }
      ]
    },
    {
      "cell_type": "markdown",
      "metadata": {
        "id": "nOJrMakIbzk0"
      },
      "source": [
        "3) Utilizando a estrutura de repetição for, faça um programa em Python que receba 10 números e conte quantos deles estão no intervalo [10,20] e quantos deles estão fora do intervalo, escrevendo estas informações."
      ]
    },
    {
      "cell_type": "code",
      "metadata": {
        "colab": {
          "base_uri": "https://localhost:8080/"
        },
        "id": "I_ilpc0qb8VB",
        "outputId": "b91e012c-e305-4002-903e-835e52a2d2df"
      },
      "source": [
        "dcont = 0\n",
        "cont = 0\n",
        "for i in range (10):\n",
        "  n = int(input(f'Digite o {cont + 1}º número positivo: '))\n",
        "  if n >= 10 and n <= 20:\n",
        "    dcont += 1\n",
        "  cont += 1\n",
        "fcont = 10 - dcont\n",
        "print(f'Dentre os números lidos {dcont} estão entre 10 e 20 e {fcont} estão fora')\n"
      ],
      "execution_count": null,
      "outputs": [
        {
          "output_type": "stream",
          "name": "stdout",
          "text": [
            "Digite o 1º número positivo: 1\n",
            "Digite o 2º número positivo: 10\n",
            "Digite o 3º número positivo: 2\n",
            "Digite o 4º número positivo: 20\n",
            "Digite o 5º número positivo: 13\n",
            "Digite o 6º número positivo: 14\n",
            "Digite o 7º número positivo: 21\n",
            "Digite o 8º número positivo: 22\n",
            "Digite o 9º número positivo: 23\n",
            "Digite o 10º número positivo: 24\n",
            "Dentre os números lidos 4 estão entre 10 e 20 e 6 estão fora\n"
          ]
        }
      ]
    },
    {
      "cell_type": "markdown",
      "metadata": {
        "id": "QLJOo97YcArE"
      },
      "source": [
        "4) Escreva um programa que leia um valor correspondente ao número de jogadores de um time de vôlei. O programa deverá ler uma altura para cada um dos jogadores e, ao final, informar a altura média do time."
      ]
    },
    {
      "cell_type": "code",
      "metadata": {
        "colab": {
          "base_uri": "https://localhost:8080/"
        },
        "id": "9QFL9kBZcBPh",
        "outputId": "18b1cee8-9013-4e53-dbe2-eecb883287e6"
      },
      "source": [
        "somaaltura = 0\n",
        "cont = 0\n",
        "for i in range (6):\n",
        "  n = 0\n",
        "  while n < 1.50 or n > 2.40:\n",
        "    n = float(input(f'Insira a altura do {cont +1}º jogador: '))\n",
        "  cont += 1\n",
        "  somaaltura += n\n",
        "mediaaltura = somaaltura / 6\n",
        "print(f'A altura média do time de vôlei é de {mediaaltura:.2f}m')"
      ],
      "execution_count": null,
      "outputs": [
        {
          "output_type": "stream",
          "name": "stdout",
          "text": [
            "Insira a altura do 1º jogador: 1.70\n",
            "Insira a altura do 2º jogador: 1.49\n",
            "Insira a altura do 2º jogador: 2.41\n",
            "Insira a altura do 2º jogador: 2.40\n",
            "Insira a altura do 3º jogador: 1.80\n",
            "Insira a altura do 4º jogador: 1.90\n",
            "Insira a altura do 5º jogador: 2\n",
            "Insira a altura do 6º jogador: 2.10\n",
            "A altura média do time de vôlei é de 1.98m\n"
          ]
        }
      ]
    },
    {
      "cell_type": "markdown",
      "metadata": {
        "id": "QdXjFwLScB3S"
      },
      "source": [
        "5) Crie um programa em Python que leia N números (N digitado pelo usuário) e mostre na tela a soma e a média de todos os números lidos."
      ]
    },
    {
      "cell_type": "code",
      "metadata": {
        "colab": {
          "base_uri": "https://localhost:8080/"
        },
        "id": "XV1C1RdycFrz",
        "outputId": "8c116ab3-8373-4788-cb52-c7565adc5105"
      },
      "source": [
        "n = 0\n",
        "while n < 1:\n",
        "  n1 = int(input('Quantos números deseja somar e tirar a média?\\n'))\n",
        "\n",
        "cont = 0\n",
        "somanumero = 0\n",
        "for i in range(n1):\n",
        "  n2 = int(input(f'Digite o {cont + 1}º número: '))\n",
        "  somanumero += n2\n",
        "  cont += 1\n",
        "\n",
        "medianumero = somanumero / cont\n",
        "\n",
        "print(f'Foram inseridos {cont} números. \\nA soma de todos os números inseridos é {somanumero} \\ne sua média é {medianumero:.1f}')"
      ],
      "execution_count": null,
      "outputs": [
        {
          "output_type": "stream",
          "name": "stdout",
          "text": [
            "Quantos números deseja somar e tirar a média?\n",
            "5\n",
            "Digite o 1º número: 11\n",
            "Digite o 2º número: 12\n",
            "Digite o 3º número: 13\n",
            "Digite o 4º número: 14\n",
            "Digite o 5º número: 15\n",
            "Foram inseridos 5 números. \n",
            "A soma de todos os números inseridos é 65 \n",
            "e sua média é 13.0\n"
          ]
        }
      ]
    },
    {
      "cell_type": "markdown",
      "metadata": {
        "id": "sP4Vh_FscGS1"
      },
      "source": [
        "6) Escreva um programa que mostre todos os números entre 5 e 100 que são divisíveis por 7, mas não são múltiplos de 5. Os números obtidos devem ser impressos em sequência."
      ]
    },
    {
      "cell_type": "code",
      "metadata": {
        "colab": {
          "base_uri": "https://localhost:8080/"
        },
        "id": "ILKrKdh3cJIl",
        "outputId": "cf013470-2325-4b6b-b92f-b202846b3c15"
      },
      "source": [
        "for i in range(5, 100 + 1):\n",
        "  if i % 7 == 0:\n",
        "    if i % 5 != 0:\n",
        "      print(i)"
      ],
      "execution_count": null,
      "outputs": [
        {
          "output_type": "stream",
          "name": "stdout",
          "text": [
            "7\n",
            "14\n",
            "21\n",
            "28\n",
            "42\n",
            "49\n",
            "56\n",
            "63\n",
            "77\n",
            "84\n",
            "91\n",
            "98\n"
          ]
        }
      ]
    },
    {
      "cell_type": "markdown",
      "metadata": {
        "id": "lWfTaB9tcJzP"
      },
      "source": [
        "7) Faça um programa que receba um número positivo digitado pelo usuário e calcule a soma de todos os números de 1 até ao número digitado. Por exemplo, se o usuário inseriu 4, a saída deve ser 10 (1+2+3+4=10)."
      ]
    },
    {
      "cell_type": "code",
      "metadata": {
        "colab": {
          "base_uri": "https://localhost:8080/"
        },
        "id": "_M3bKaaAcMf7",
        "outputId": "62ac24b1-4eac-4252-fbd5-c0ec507fb8ba"
      },
      "source": [
        "n = 0\n",
        "while n < 1:\n",
        "  n = int(input('Digite o número final da soma que deseja: '))\n",
        "\n",
        "somatudo = 0\n",
        "\n",
        "for i in range (1, n + 1):\n",
        "  somatudo += i\n",
        "  print(i, end='')\n",
        "  if i < n:\n",
        "    print('+', end='')\n",
        "  elif i == n:\n",
        "    print(f'={somatudo}')"
      ],
      "execution_count": null,
      "outputs": [
        {
          "output_type": "stream",
          "name": "stdout",
          "text": [
            "Digite o número final da soma que deseja: 4\n",
            "1+2+3+4=10\n"
          ]
        }
      ]
    },
    {
      "cell_type": "markdown",
      "metadata": {
        "id": "9Fila31XcNJZ"
      },
      "source": [
        "8) Escreva um programa em Python para encontrar o fatorial de qualquer número.\n",
        "\n",
        "FAT 5 = 5 x 4 x 3 x 2 x 1 = 120\n"
      ]
    },
    {
      "cell_type": "code",
      "metadata": {
        "colab": {
          "base_uri": "https://localhost:8080/"
        },
        "id": "DVuHN3MYcQqX",
        "outputId": "d7f12bc8-8b14-41e5-e084-fcfab0f10b71"
      },
      "source": [
        "n = 0\n",
        "while n < 1:\n",
        "  n = int(input('Insira o número que quer encontrar o fatorial: '))\n",
        "\n",
        "multtudo = 1\n",
        "print(f'FAT {n} = ', end='')\n",
        "for i in range(n, 0, -1):\n",
        "  multtudo *= i\n",
        "  print(i, end=' ')\n",
        "  if i > 1:\n",
        "    print('x ', end='')\n",
        "  elif i == 1:\n",
        "    print(f'= {multtudo}')"
      ],
      "execution_count": null,
      "outputs": [
        {
          "output_type": "stream",
          "name": "stdout",
          "text": [
            "Insira o número que quer encontrar o fatorial: 4\n",
            "FAT 4 = 4 x 3 x 2 x 1 = 24\n"
          ]
        }
      ]
    },
    {
      "cell_type": "markdown",
      "metadata": {
        "id": "gWhQQgPkcRnt"
      },
      "source": [
        "9) Escreva um programa em Python que leia um número inteiro positivo e diga se o número informado é primo."
      ]
    },
    {
      "cell_type": "code",
      "metadata": {
        "colab": {
          "base_uri": "https://localhost:8080/"
        },
        "id": "Hrf3P_ZgcdrR",
        "outputId": "95c26fff-4ea2-4f14-e63f-0ca7b0c921ea"
      },
      "source": [
        "n = 0\n",
        "while n < 1:\n",
        "  n = int(input('Insira o número que gostaria de conferir se é primo: '))\n",
        "\n",
        "cont_primo = 0\n",
        "\n",
        "for i in range(1, n + 1):\n",
        "  if n % i == 0:\n",
        "    cont_primo += 1\n",
        "print(f'O número {n} foi dividido {cont_primo} vezes.')\n",
        "if cont_primo == 2:\n",
        "  print('Devido a isso ele É PRIMO!')\n",
        "else:\n",
        "  print('Devido a isso ele NÃO É PRIMO!')"
      ],
      "execution_count": null,
      "outputs": [
        {
          "output_type": "stream",
          "name": "stdout",
          "text": [
            "Insira o número que gostaria de conferir se é primo: 7\n",
            "O número 7 foi dividido 2 vezes.\n",
            "Devido a isso ele É PRIMO!\n"
          ]
        }
      ]
    },
    {
      "cell_type": "markdown",
      "metadata": {
        "id": "A0hP3I7bceQR"
      },
      "source": [
        "10) Digitados dois números (base e expoente ), calcule o resultado  da potência utilizando apenas operadores básicos da matemática(soma, subtração, multiplicação ou divisão) e o comando FOR."
      ]
    },
    {
      "cell_type": "code",
      "metadata": {
        "colab": {
          "base_uri": "https://localhost:8080/"
        },
        "id": "7DqlDGeTcgPZ",
        "outputId": "45fa8b13-46de-4432-b1d4-820208ad2795"
      },
      "source": [
        "print('Calcule a potência!')\n",
        "b = int(input('Insira o número da base: '))\n",
        "e = int(input('Insira o número do expoente: '))\n",
        "pot = 1\n",
        "\n",
        "for i in range(1, e + 1):\n",
        "  pot *= b\n",
        "\n",
        "print(f'{b} elevado a {e} é igual a {pot}')"
      ],
      "execution_count": null,
      "outputs": [
        {
          "output_type": "stream",
          "name": "stdout",
          "text": [
            "Calcule a potência!\n",
            "Insira o número da base: 5\n",
            "Insira o número do expoente: 3\n",
            "5 elevado a 3 é igual a 125\n"
          ]
        }
      ]
    },
    {
      "cell_type": "code",
      "metadata": {
        "id": "2KcZJUyewCvH"
      },
      "source": [
        ""
      ],
      "execution_count": null,
      "outputs": []
    }
  ]
}