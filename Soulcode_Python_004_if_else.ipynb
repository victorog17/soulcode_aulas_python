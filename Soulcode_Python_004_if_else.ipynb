{
  "nbformat": 4,
  "nbformat_minor": 0,
  "metadata": {
    "colab": {
      "name": "Soulcode_Python_004_if_else.ipynb",
      "provenance": [],
      "collapsed_sections": [],
      "authorship_tag": "ABX9TyOAhuKhHyCK0uZIWxXlZBUe",
      "include_colab_link": true
    },
    "kernelspec": {
      "name": "python3",
      "display_name": "Python 3"
    },
    "language_info": {
      "name": "python"
    }
  },
  "cells": [
    {
      "cell_type": "markdown",
      "metadata": {
        "id": "view-in-github",
        "colab_type": "text"
      },
      "source": [
        "<a href=\"https://colab.research.google.com/github/victorog17/soulcode_aulas_python/blob/main/Soulcode_Python_004_if_else.ipynb\" target=\"_parent\"><img src=\"https://colab.research.google.com/assets/colab-badge.svg\" alt=\"Open In Colab\"/></a>"
      ]
    },
    {
      "cell_type": "markdown",
      "metadata": {
        "id": "vLKML5ZJUqpg"
      },
      "source": [
        "1) Escreva um programa que leia as medidas dos lados de um triângulo e escreva se ele é Equilátero, Isósceles ou Escaleno. Sendo que:\n",
        "\n",
        "− Triângulo Equilátero: possui os 3 lados iguais.\n",
        "\n",
        "− Triângulo Isóscele: possui 2 lados iguais.\n",
        "\n",
        "− Triângulo Escaleno: possui 3 lados diferentes\n"
      ]
    },
    {
      "cell_type": "code",
      "metadata": {
        "colab": {
          "base_uri": "https://localhost:8080/"
        },
        "id": "BVBpRziUUkLy",
        "outputId": "c1110075-a9d1-4f32-85be-1a9d3a731100"
      },
      "source": [
        "print('Descubra qual é o tipo do triângulo!')\n",
        "n1 = int(input('Insira a medida do primeiro lado: '))\n",
        "n2 = int(input('Insira a medida do segundo lado: '))\n",
        "n3 = int(input('Insira a medida do terceiro lado: '))\n",
        "\n",
        "if n1 == 0 or n2 == 0 or n3 == 0:\n",
        "  print('Não é possível formar um triângulo')\n",
        "elif n1 == n2 == n3:\n",
        "  print('Triângulo Equilátero')\n",
        "elif n1 == n2 != n3 or n1 != n2 == n3 or n1 == n3 != n2:\n",
        "  print('Triângulo Isósceles')\n",
        "else:\n",
        "  print('Triângulo Escaleno')"
      ],
      "execution_count": null,
      "outputs": [
        {
          "output_type": "stream",
          "name": "stdout",
          "text": [
            "Descubra qual é o tipo do triângulo!\n",
            "Insira a medida do primeiro lado: 2\n",
            "Insira a medida do segundo lado: 2\n",
            "Insira a medida do terceiro lado: 0\n",
            "Não é possível formar um triângulo\n"
          ]
        }
      ]
    },
    {
      "cell_type": "markdown",
      "metadata": {
        "id": "bT8wyaVuU1D7"
      },
      "source": [
        "2) Desenvolva um algoritmo em Python para determinar o Índice de Massa Corporal (IMC) de uma pessoa.\n",
        "\n",
        "Para fazer o cálculo do IMC basta dividir seu peso em quilogramas  (Kg) pela altura ao quadrado (em metros).\n",
        "\n",
        "O número que será gerado deve ser comparado aos valores da tabela IMC, dada abaixo, para definir se você está abaixo, em seu peso ideal ou acima do peso.\n",
        "\n",
        "< 16 - Magreza Grave\n",
        "\n",
        "16 a < 17 - Magreza Moderada\n",
        "\n",
        "17 a < 18,5 - Magreza Leve\n",
        "\n",
        "18,5 a < 25 - Saudável\n",
        "\n",
        "25 a < 30 - Sobrepeso\n",
        "\n",
        "30 a < 35 - Obesidade Grau I\n",
        "\n",
        "35 a < 40 - Obesidade Grau II(Severa)\n",
        "\n",
        "\">= 40 - Obesidade Grau III(Mórbida)"
      ]
    },
    {
      "cell_type": "code",
      "metadata": {
        "colab": {
          "base_uri": "https://localhost:8080/"
        },
        "id": "rwxNS2NNVAW2",
        "outputId": "ecbd5e97-f45c-4e1d-9651-33c1352bfed5"
      },
      "source": [
        "print('Calculadora de IMC')\n",
        "altura = float(input('Insira sua altura em metros: '))\n",
        "peso = float(input('Insira seu peso em kilogramas: '))\n",
        "\n",
        "imc = peso / (altura ** 2)\n",
        "print(f'Seu IMC é de {imc:.2f}')\n",
        "\n",
        "if imc < 16:\n",
        "  print('Magreza Grave')\n",
        "elif imc < 17:\n",
        "  print('Magreza Moderada')\n",
        "elif imc < 18.5:\n",
        "  print('Magreza Leve')\n",
        "elif imc < 25:\n",
        "  print('Saudável')\n",
        "elif imc < 30:\n",
        "  print('Sobrepeso')\n",
        "elif imc < 35:\n",
        "  print('Obesidade Grau I')\n",
        "elif imc < 40:\n",
        "  print('Obesidade Grau II (Severa)')\n",
        "else:\n",
        "  print('Obesidade Grau III (Mórbita)')"
      ],
      "execution_count": null,
      "outputs": [
        {
          "output_type": "stream",
          "name": "stdout",
          "text": [
            "Calculadora de IMC\n",
            "Insira sua altura em metros: 1.7\n",
            "Insira seu peso em kilogramas: 130\n",
            "Seu IMC é de 44.98\n",
            "Obesidade Grau III (Mórbita)\n"
          ]
        }
      ]
    },
    {
      "cell_type": "markdown",
      "metadata": {
        "id": "S9LhYD-iVA1K"
      },
      "source": [
        "3) Escreva um programa para ler o ano de nascimento de uma pessoa e escrever uma mensagem que diga se ela poderá ou não votar este ano (não é necessário considerar o mês em que ela nasceu)."
      ]
    },
    {
      "cell_type": "code",
      "metadata": {
        "colab": {
          "base_uri": "https://localhost:8080/"
        },
        "id": "5BIEGM1lVW2a",
        "outputId": "a03df512-11e1-481e-f1a0-5895083a160a"
      },
      "source": [
        "nasc = int(input('Insira o ano em que nasceu: '))\n",
        "atual = 2021\n",
        "\n",
        "idade = atual - nasc\n",
        "\n",
        "print(f'Você nasceu em {nasc}, portanto tem {idade} anos.')\n",
        "\n",
        "if idade >= 16:\n",
        "  print('Você pode votar esse ano.')\n",
        "else:\n",
        "  print('Você não pode votar esse ano.')"
      ],
      "execution_count": null,
      "outputs": [
        {
          "output_type": "stream",
          "name": "stdout",
          "text": [
            "Insira o ano em que nasceu: 2012\n",
            "Você nasceu em 2012, portanto tem 9 anos\n",
            "Você não pode votar esse ano\n"
          ]
        }
      ]
    },
    {
      "cell_type": "markdown",
      "metadata": {
        "id": "yFceyk0nVae_"
      },
      "source": [
        "4) Faça um programa que pede duas notas de um aluno. Em seguida ele deve calcular a média do aluno e dar o seguinte resultado:\n",
        "\n",
        "A mensagem \"Aprovado\", se a média alcançada for maior ou igual a sete;\n",
        "\n",
        "A mensagem \"Reprovado\", se a média for menor do que sete;\n",
        "\n",
        "A mensagem \"Aprovado com Distinção\", se a média for igual a dez."
      ]
    },
    {
      "cell_type": "code",
      "metadata": {
        "colab": {
          "base_uri": "https://localhost:8080/"
        },
        "id": "hCoClVPPVn4s",
        "outputId": "a837a0b4-7d48-4075-fc34-466ddc35e8bd"
      },
      "source": [
        "print('Verificação se o aluno foi aprovado. Nota entre 0 e 10')\n",
        "n1 = float(input('Digite a primeira nota: '))\n",
        "n2 = float(input('Digite a segunda nota: '))\n",
        "me = (n1 + n2)/2\n",
        "\n",
        "if me == 10:\n",
        "  print(f'Sua média final foi {me:.2f}, você foi Aprovado com Distinção')\n",
        "elif me >= 7:\n",
        "  print(f'Sua média final foi {me:.2f}, você foi Aprovado')\n",
        "else:\n",
        "  print(f'Sua média final foi {me:.2f}, você foi REPROVADO')"
      ],
      "execution_count": null,
      "outputs": [
        {
          "output_type": "stream",
          "name": "stdout",
          "text": [
            "Verificação se o aluno foi aprovado. Nota entre 0 e 10\n",
            "Digite a primeira nota: 5\n",
            "Digite a segunda nota: 9\n",
            "Sua média final foi 7.00, você foi Aprovado\n"
          ]
        }
      ]
    },
    {
      "cell_type": "markdown",
      "metadata": {
        "id": "6hcavy6xVYJ3"
      },
      "source": [
        "5) Faça um Programa que pergunte em que turno você estuda. Peça para digitar M-matutino ou V-Vespertino ou N- Noturno. Imprima a mensagem \"Bom Dia!\", \"Boa Tarde!\" ou \"Boa Noite!\" ou \"Valor Inválido!\", conforme o caso."
      ]
    },
    {
      "cell_type": "code",
      "metadata": {
        "colab": {
          "base_uri": "https://localhost:8080/"
        },
        "id": "E_eqL2AeV5mk",
        "outputId": "d8d494b3-5fee-4747-f7a9-c6218f4b03e0"
      },
      "source": [
        "n = str(input('Em qual turno você estuda?\\nDigite \"M\" para matutino, \"V\" para vespertino ou \"N\" para noturno.\\n')).title().strip()[0]\n",
        "\n",
        "if n == 'M':\n",
        "  print('Bom Dia!')\n",
        "elif n == 'V':\n",
        "  print('Boa Tarde!')\n",
        "elif n == 'N':\n",
        "  print('Boa Noite!')\n",
        "else:\n",
        "  print('Opção Inválida!')"
      ],
      "execution_count": null,
      "outputs": [
        {
          "output_type": "stream",
          "name": "stdout",
          "text": [
            "Em qual turno você estuda?\n",
            "Digite \"M\" para matutino, \"V\" para vespertino ou \"N\" para noturno.\n",
            "x\n",
            "Opção Inválida!\n"
          ]
        }
      ]
    },
    {
      "cell_type": "markdown",
      "metadata": {
        "id": "VceDtyNQV6BC"
      },
      "source": [
        "6) As Organizações Tabajara resolveram dar um aumento de salário aos seus colaboradores e lhe contrataram para desenvolver o programa que calculará os reajustes.\n",
        "\n",
        "Faça um programa que recebe o salário de um colaborador e o reajuste segundo o seguinte critério, baseado no salário atual:\n",
        "\n",
        "    salários até R$ 280,00 (incluindo) : aumento de 20%\n",
        "    salários entre R$ 280,00 e R$ 700,00 : aumento de 15%\n",
        "    salários entre R$ 700,00 e R$ 1500,00 : aumento de 10%\n",
        "    salários de R$ 1500,00 em diante : aumento de 5% \n",
        "    Após o aumento ser realizado, informe na tela:\n",
        "    o salário antes do reajuste;\n",
        "    o percentual de aumento aplicado;\n",
        "    o valor do aumento;\n",
        "    o novo salário, após o aumento."
      ]
    },
    {
      "cell_type": "code",
      "metadata": {
        "colab": {
          "base_uri": "https://localhost:8080/"
        },
        "id": "Crp3uUhWWAM8",
        "outputId": "75fcdc95-9b91-45da-9c90-a1c497c64e80"
      },
      "source": [
        "n = float(input('Insira seu salário para calcular o reajuste: R$'))\n",
        "\n",
        "if n <= 280:\n",
        "  ns = n * 1.2\n",
        "elif n <= 700:\n",
        "  ns = n * 1.15\n",
        "elif n <= 1500:\n",
        "  ns = n * 1.1\n",
        "else:\n",
        "  ns = n * 1.05\n",
        "\n",
        "per = ((ns / n) - 1) * 100\n",
        "va = ns - n\n",
        "\n",
        "print(f'Seu salário antes do reajuste era R${n:.2f}; \\nO percentual de aumento aplicado foi de {per:.2f}%; \\n\\\n",
        "O valor do aumento foi de R${va:.2f}; \\nSeu novo salário, após o aumento é de R${ns:.2f}')"
      ],
      "execution_count": null,
      "outputs": [
        {
          "output_type": "stream",
          "name": "stdout",
          "text": [
            "Insira seu salário para calcular o reajuste: R$1600\n",
            "Seu salário antes do reajuste era R$1600.00; \n",
            "O percentual de aumento aplicado foi de 5.00%; \n",
            "O valor do aumento foi de R$80.00; \n",
            "Seu novo salário, após o aumento é de R$1680.00\n"
          ]
        }
      ]
    },
    {
      "cell_type": "code",
      "metadata": {
        "id": "CQti5YaKlRIg"
      },
      "source": [
        ""
      ],
      "execution_count": null,
      "outputs": []
    }
  ]
}