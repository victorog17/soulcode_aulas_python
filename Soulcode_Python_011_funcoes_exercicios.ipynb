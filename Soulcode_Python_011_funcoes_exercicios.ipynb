{
  "nbformat": 4,
  "nbformat_minor": 0,
  "metadata": {
    "colab": {
      "name": "Soulcode_Python_011_funcoes_exercicios.ipynb",
      "provenance": [],
      "collapsed_sections": [],
      "authorship_tag": "ABX9TyORes7hYtKMWZNIPT5t6Ygv",
      "include_colab_link": true
    },
    "kernelspec": {
      "name": "python3",
      "display_name": "Python 3"
    },
    "language_info": {
      "name": "python"
    }
  },
  "cells": [
    {
      "cell_type": "markdown",
      "metadata": {
        "id": "view-in-github",
        "colab_type": "text"
      },
      "source": [
        "<a href=\"https://colab.research.google.com/github/victorog17/soulcode_aulas_python/blob/main/Soulcode_Python_011_funcoes_exercicios.ipynb\" target=\"_parent\"><img src=\"https://colab.research.google.com/assets/colab-badge.svg\" alt=\"Open In Colab\"/></a>"
      ]
    },
    {
      "cell_type": "markdown",
      "metadata": {
        "id": "WjvAIgfi16-M"
      },
      "source": [
        "1) Faça um programa para imprimir:\n",
        "   1\n",
        "    2   2\n",
        "    3   3   3\n",
        "    .....    n   n   n   n   n   n  ... n\n",
        "para um n informado pelo usuário. Use uma função que receba um valor n inteiro e imprima até a n-ésima linha."
      ]
    },
    {
      "cell_type": "code",
      "metadata": {
        "id": "BX32qq6X1tv-"
      },
      "source": [
        "def funcao_1():\n",
        "  n = float(input('Número inteiro e não negativo, por favor: '))\n",
        "  while n <= 0 or (n // 1) != n:\n",
        "    n = float(input('Errou! Número inteiro e não negativo, por favor: '))\n",
        "  n = int(n)\n",
        "  for i in range(1, n+1):\n",
        "    print(str(i) * i)"
      ],
      "execution_count": null,
      "outputs": []
    },
    {
      "cell_type": "code",
      "metadata": {
        "colab": {
          "base_uri": "https://localhost:8080/"
        },
        "id": "huyP3rdv45hr",
        "outputId": "06078a40-c57d-4b14-e253-addd686a3e68"
      },
      "source": [
        "funcao_1()"
      ],
      "execution_count": null,
      "outputs": [
        {
          "output_type": "stream",
          "name": "stdout",
          "text": [
            "Número inteiro e não negativo, por favor: 4\n",
            "1\n",
            "22\n",
            "333\n",
            "4444\n"
          ]
        }
      ]
    },
    {
      "cell_type": "code",
      "metadata": {
        "id": "_LUUEZobWccD"
      },
      "source": [
        "def funcao_1_1():\n",
        "  n = float(input('Número inteiro e não negativo, por favor: '))\n",
        "  while n <= 0 or (n // 1) != n:\n",
        "    n = float(input('Errou! Número inteiro e não negativo, por favor: '))\n",
        "  n = int(n)\n",
        "  for i in range(1, n+1):\n",
        "    for j in range(1, i+1):\n",
        "      print(j, end=' ')\n",
        "    print('')"
      ],
      "execution_count": null,
      "outputs": []
    },
    {
      "cell_type": "code",
      "metadata": {
        "colab": {
          "base_uri": "https://localhost:8080/"
        },
        "id": "3_j1pB02Wtmh",
        "outputId": "4b50c9ba-0391-4725-a0b2-1a6c15c03bc5"
      },
      "source": [
        "funcao_1_1()"
      ],
      "execution_count": null,
      "outputs": [
        {
          "output_type": "stream",
          "name": "stdout",
          "text": [
            "Número inteiro e não negativo, por favor: 5\n",
            "1 \n",
            "1 2 \n",
            "1 2 3 \n",
            "1 2 3 4 \n",
            "1 2 3 4 5 \n"
          ]
        }
      ]
    },
    {
      "cell_type": "markdown",
      "metadata": {
        "id": "4h2Mq4Ub2HUX"
      },
      "source": [
        "2) Faça um programa para imprimir:\n",
        "   1\n",
        "    1   2\n",
        "    1   2   3\n",
        "    .....    1   2   3   ...  n\n",
        "para um n informado pelo usuário. Use uma função que receba um valor n inteiro imprima até a n-ésima linha."
      ]
    },
    {
      "cell_type": "code",
      "metadata": {
        "id": "07UhAPFQ2IJB"
      },
      "source": [
        "def funcao_2():\n",
        "  n = float(input('Número inteiro e não negativo, por favor: '))\n",
        "  while n <= 0 or (n // 1) != n:\n",
        "    n = float(input('Errou! Número inteiro e não negativo, por favor: '))\n",
        "  n = int(n)\n",
        "  for i in range(1, n+1):\n",
        "    for j in range(1, i+1):\n",
        "      print(j, end=' ')\n",
        "    print('')"
      ],
      "execution_count": null,
      "outputs": []
    },
    {
      "cell_type": "code",
      "metadata": {
        "colab": {
          "base_uri": "https://localhost:8080/"
        },
        "id": "T7BEiLalAIYr",
        "outputId": "84d748d4-d059-4be0-bcb3-d7943d6c0f7c"
      },
      "source": [
        "funcao_2()"
      ],
      "execution_count": null,
      "outputs": [
        {
          "output_type": "stream",
          "name": "stdout",
          "text": [
            "Número inteiro e não negativo, por favor: 6\n",
            "1 \n",
            "1 2 \n",
            "1 2 3 \n",
            "1 2 3 4 \n",
            "1 2 3 4 5 \n",
            "1 2 3 4 5 6 \n"
          ]
        }
      ]
    },
    {
      "cell_type": "markdown",
      "metadata": {
        "id": "1x2ENHrv2I2f"
      },
      "source": [
        "3) Faça um programa, com uma função que necessite de três argumentos, e que forneça a soma desses três argumentos."
      ]
    },
    {
      "cell_type": "code",
      "metadata": {
        "colab": {
          "base_uri": "https://localhost:8080/"
        },
        "id": "yb8tIf1t2Ke7",
        "outputId": "073aa29a-a3a7-4d69-f0eb-e6d60279ea00"
      },
      "source": [
        "def soma_tres(n1, n2, n3):\n",
        "  return n1 + n2 + n3\n",
        "\n",
        "n1 = int(input('Digite o número: '))\n",
        "n2 = int(input('Digite o número: '))\n",
        "n3 = int(input('Digite o número: '))\n",
        "\n",
        "print(soma_tres(n1, n2, n3))"
      ],
      "execution_count": null,
      "outputs": [
        {
          "output_type": "stream",
          "name": "stdout",
          "text": [
            "Digite o número: 5\n",
            "Digite o número: 6\n",
            "Digite o número: 7\n",
            "18\n"
          ]
        }
      ]
    },
    {
      "cell_type": "markdown",
      "metadata": {
        "id": "eztmSNxN2LHi"
      },
      "source": [
        "4) Faça um programa, com uma função que necessite de um argumento. A função retorna o valor de caractere ‘P’, se seu argumento for positivo, e ‘N’, se seu argumento for zero ou negativo."
      ]
    },
    {
      "cell_type": "code",
      "metadata": {
        "id": "3bkdeQyz2MjK"
      },
      "source": [
        "def pos_neg(numero):\n",
        "  if numero <= 0:\n",
        "    print('N')\n",
        "  else:\n",
        "    print('P')"
      ],
      "execution_count": null,
      "outputs": []
    },
    {
      "cell_type": "code",
      "metadata": {
        "colab": {
          "base_uri": "https://localhost:8080/"
        },
        "id": "KUJlq9br3kGB",
        "outputId": "0f7e168a-73d6-455d-e2a4-de19207f5c65"
      },
      "source": [
        "pos_neg(0)"
      ],
      "execution_count": null,
      "outputs": [
        {
          "output_type": "stream",
          "name": "stdout",
          "text": [
            "N\n"
          ]
        }
      ]
    },
    {
      "cell_type": "markdown",
      "metadata": {
        "id": "oI0but7E2NKZ"
      },
      "source": [
        "5) Faça uma calculadora utilizando funções que receba dois números e realize as 4 operações básicas da matemática."
      ]
    },
    {
      "cell_type": "code",
      "metadata": {
        "id": "bYjyOF592Oht"
      },
      "source": [
        "def calculadora(n1, n2):\n",
        "  soma = n1 + n2\n",
        "  subtracao = n1 - n2\n",
        "  multiplicacao = n1 * n2\n",
        "  divisao = n1 / n2\n",
        "  print(f'{n1} + {n2} = {soma}')\n",
        "  print(f'{n1} - {n2} = {subtracao}')\n",
        "  print(f'{n1} * {n2} = {multiplicacao}')\n",
        "  print(f'{n1} + {n2} = {divisao}')"
      ],
      "execution_count": null,
      "outputs": []
    },
    {
      "cell_type": "code",
      "metadata": {
        "colab": {
          "base_uri": "https://localhost:8080/"
        },
        "id": "M9WBbgyy20E3",
        "outputId": "f4633171-1e6f-46a5-cc2b-4aa0439c543a"
      },
      "source": [
        "calculadora(2, 4)"
      ],
      "execution_count": null,
      "outputs": [
        {
          "output_type": "stream",
          "name": "stdout",
          "text": [
            "2 + 4 = 6\n",
            "2 - 4 = -2\n",
            "2 * 4 = 8\n",
            "2 + 4 = 0.5\n"
          ]
        }
      ]
    },
    {
      "cell_type": "markdown",
      "metadata": {
        "id": "JhEUMbQRiPJW"
      },
      "source": [
        "5) Faça uma calculadora utilizando funções que receba dois números e realize as 4 operações básicas da matemática."
      ]
    },
    {
      "cell_type": "code",
      "metadata": {
        "id": "fJuwOSHpdE6u"
      },
      "source": [
        "def calculadora_2(n1, n2):\n",
        "  print('''Escolha que tipo de operação quer fazer:\n",
        "           1 = SOMA\n",
        "           2 = SUBTRAÇÃO\n",
        "           3 = MULTIPLICAÇÃO\n",
        "           4 = DIVISÃO\n",
        "           0 = ABORTAR''')\n",
        "  op = int(input('Insira aqui o tipo de operação que deseja: '))\n",
        "  while op < 0 or op > 4:\n",
        "    op = int(input('Opção Invalida. Insira aqui o tipo de operação que deseja: '))\n",
        "  if op == 1:\n",
        "    soma = n1 + n2\n",
        "    print(f'{n1} + {n2} = {soma}')\n",
        "  elif op == 2:\n",
        "    subtracao = n1 - n2\n",
        "    print(f'{n1} - {n2} = {subtracao}')\n",
        "  elif op == 3:\n",
        "    multiplicacao = n1 * n2\n",
        "    print(f'{n1} * {n2} = {multiplicacao}')\n",
        "  elif op == 4:\n",
        "    if n1 == 0:\n",
        "      print('Não é possivel realizar divisão por 0')\n",
        "    else:\n",
        "      divisao = n1 / n2\n",
        "      print(f'{n1} / {n2} = {round(divisao, 2)}')\n",
        "  else:\n",
        "    print('Até a proxima')"
      ],
      "execution_count": null,
      "outputs": []
    },
    {
      "cell_type": "code",
      "metadata": {
        "colab": {
          "base_uri": "https://localhost:8080/"
        },
        "id": "Z8O3rTsA24G-",
        "outputId": "bef0b0a8-eeb5-4f93-9a14-0b60d62fb948"
      },
      "source": [
        "calculadora_2(7, 6)"
      ],
      "execution_count": null,
      "outputs": [
        {
          "output_type": "stream",
          "name": "stdout",
          "text": [
            "Escolha que tipo de operação quer fazer:\n",
            "           1 = SOMA\n",
            "           2 = SUBTRAÇÃO\n",
            "           3 = MULTIPLICAÇÃO\n",
            "           4 = DIVISÃO\n",
            "           0 = ABORTAR\n",
            "Insira aqui o tipo de operação que deseja: 3\n",
            "7 * 6 = 42\n"
          ]
        }
      ]
    },
    {
      "cell_type": "code",
      "metadata": {
        "id": "7YH9IUK6eaSc"
      },
      "source": [
        ""
      ],
      "execution_count": null,
      "outputs": []
    }
  ]
}