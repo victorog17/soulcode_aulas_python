{
  "nbformat": 4,
  "nbformat_minor": 0,
  "metadata": {
    "colab": {
      "name": "Soulcode_Python_003_exercicio.ipynb",
      "provenance": [],
      "collapsed_sections": [],
      "authorship_tag": "ABX9TyO1fa+56n0JVL7tVYpVVKIa",
      "include_colab_link": true
    },
    "kernelspec": {
      "name": "python3",
      "display_name": "Python 3"
    },
    "language_info": {
      "name": "python"
    }
  },
  "cells": [
    {
      "cell_type": "markdown",
      "metadata": {
        "id": "view-in-github",
        "colab_type": "text"
      },
      "source": [
        "<a href=\"https://colab.research.google.com/github/victorog17/soulcode_aulas_python/blob/main/Soulcode_Python_003_exercicio.ipynb\" target=\"_parent\"><img src=\"https://colab.research.google.com/assets/colab-badge.svg\" alt=\"Open In Colab\"/></a>"
      ]
    },
    {
      "cell_type": "markdown",
      "metadata": {
        "id": "drUudZpNKJLQ"
      },
      "source": [
        "1)\tDetermine os resultados obtidos na avaliação das expressões lógicas seguintes, sabendo que A, B, e C contêm, respectivamente, 2, 7 e 3.5 e que existe uma variável lógica L cujo valor é False (F):\n",
        "\n",
        "A.\tB = A * C and ( L or True )\n",
        "\n",
        "B.\tB > A or B > A ** A\n",
        "\n",
        "C.\tL and B > A or C < A and A <= C\n",
        "\n",
        "D.\tnot L or True and A + B >= C\n",
        "\n",
        "E.\tB / A == C ou B / A != C\n",
        "\n",
        "F.\tL or B ** A <= C * 10 + A * B\n"
      ]
    },
    {
      "cell_type": "code",
      "metadata": {
        "colab": {
          "base_uri": "https://localhost:8080/"
        },
        "id": "NrGtWUYsKP8C",
        "outputId": "ff62322d-773c-431c-dee8-42a4f3f348d4"
      },
      "source": [
        "A = 2\n",
        "B = 7\n",
        "C = 3.5\n",
        "L = False\n",
        "\n",
        "print('B == A * C and ( L or True ):', B == A * C and ( L or True ))\n",
        "print('B > A or B > A ** A:', B > A or B > A ** A)\n",
        "print('L and B > A or C < A and A <= C:', L and B > A or C < A and A <= C)\n",
        "print('not L or True and A + B >= C:', not L or True and A + B >= C)\n",
        "print('B / A == C ou B / A != C:', B / A == C or B / A != C)\n",
        "print('L or B ** A <= C * 10 + A * B:', L or B ** A <= C * 10 + A * B)"
      ],
      "execution_count": null,
      "outputs": [
        {
          "output_type": "stream",
          "name": "stdout",
          "text": [
            "B == A * C and ( L or True ): True\n",
            "B > A or B > A ** A: True\n",
            "L and B > A or C < A and A <= C: False\n",
            "not L or True and A + B >= C: True\n",
            "B / A == C ou B / A != C: True\n",
            "L or B ** A <= C * 10 + A * B: True\n"
          ]
        }
      ]
    },
    {
      "cell_type": "markdown",
      "metadata": {
        "id": "aBxhN6BpMfBv"
      },
      "source": [
        "2) Supondo que A, B e C são variáveis do tipo inteiro, com valores iguais a 5, 10 e -8, respectivamente, e uma variável D com valor de 1.5, quais os resultados das expressões aritméticas apresentadas em seguida?\n",
        "\n",
        "A.\t2 * A % 3 – C\n",
        "\n",
        "B.\t( ( 20 / 3 ) / 3 ) + 2**8 / 2\n",
        "\n",
        "C.\t( 30 % 4 * 3 ** 3 ) * -1\n",
        "\n",
        "D.\t-C**2 + ( D * 10 ) / A\n"
      ]
    },
    {
      "cell_type": "code",
      "metadata": {
        "colab": {
          "base_uri": "https://localhost:8080/"
        },
        "id": "eJsPfiYyMBIA",
        "outputId": "5f99486a-dd3c-41fb-b29b-02a527a5cdf9"
      },
      "source": [
        "A = 5\n",
        "B = 10\n",
        "C = -8\n",
        "D = 1.5\n",
        "\n",
        "print('2 * A % 3 - C =', 2 * A % 3 - C)\n",
        "print('( ( 20 / 3 ) / 3 ) + 2**8 / 2 =', ( ( 20 / 3 ) / 3 ) + 2**8 / 2)\n",
        "print('( 30 % 4 * 3 ** 3 ) * -1 =', ( 30 % 4 * 3 ** 3 ) * -1)\n",
        "print('-C**2 + ( D * 10 ) / A =', -C**2 + ( D * 10 ) / A)"
      ],
      "execution_count": null,
      "outputs": [
        {
          "output_type": "stream",
          "name": "stdout",
          "text": [
            "2 * A % 3 - C = 9\n",
            "( ( 20 / 3 ) / 3 ) + 2**8 / 2 = 130.22222222222223\n",
            "( 30 % 4 * 3 ** 3 ) * -1 = -54\n",
            "-C**2 + ( D * 10 ) / A = -61.0\n"
          ]
        }
      ]
    },
    {
      "cell_type": "markdown",
      "metadata": {
        "id": "-uogcVIXNbPR"
      },
      "source": [
        "3) Crie um programa que leia um número inteiro de 3 dígitos e inverta esse número. Ao final, exiba o resultado na tela.\n",
        "\n",
        "Ex: usuário digita 514\n",
        "\n",
        "O resultado a ser exibido é 415\n",
        "\n",
        "Usuário digita 123\n",
        "\n",
        "O resultado a ser exibido é 321\n"
      ]
    },
    {
      "cell_type": "code",
      "metadata": {
        "colab": {
          "base_uri": "https://localhost:8080/"
        },
        "id": "OfXbwUkiNJh2",
        "outputId": "2c660465-f059-4cf8-e66c-dac7f1390ddd"
      },
      "source": [
        "n = int(input('Digite um número de 3 digitos: '))\n",
        "c = n // 100\n",
        "d = (n % 100) // 10\n",
        "u = n % 10\n",
        "print(f'O valor invertido é {u}{d}{c}')"
      ],
      "execution_count": null,
      "outputs": [
        {
          "output_type": "stream",
          "name": "stdout",
          "text": [
            "Digite um número de 3 digitos: 99\n",
            "O valor invertido é 990\n"
          ]
        }
      ]
    },
    {
      "cell_type": "code",
      "metadata": {
        "id": "xhhyycP8Plzd",
        "colab": {
          "base_uri": "https://localhost:8080/",
          "height": 35
        },
        "outputId": "a5b90439-3292-420c-d3d0-f02bea92027f"
      },
      "source": [
        "mx = 'palavra'\n",
        "mx[::-1]"
      ],
      "execution_count": null,
      "outputs": [
        {
          "output_type": "execute_result",
          "data": {
            "application/vnd.google.colaboratory.intrinsic+json": {
              "type": "string"
            },
            "text/plain": [
              "'arvalap'"
            ]
          },
          "metadata": {},
          "execution_count": 5
        }
      ]
    },
    {
      "cell_type": "code",
      "metadata": {
        "id": "CK3qZnjWuhwD"
      },
      "source": [
        ""
      ],
      "execution_count": null,
      "outputs": []
    }
  ]
}