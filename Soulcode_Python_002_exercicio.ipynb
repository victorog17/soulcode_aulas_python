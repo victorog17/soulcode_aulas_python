{
  "nbformat": 4,
  "nbformat_minor": 0,
  "metadata": {
    "colab": {
      "name": "Soulcode_Python_002_exercicio.ipynb",
      "provenance": [],
      "collapsed_sections": [],
      "authorship_tag": "ABX9TyOMRkPDAyIXkTHvGqoRQ2mO",
      "include_colab_link": true
    },
    "kernelspec": {
      "name": "python3",
      "display_name": "Python 3"
    },
    "language_info": {
      "name": "python"
    }
  },
  "cells": [
    {
      "cell_type": "markdown",
      "metadata": {
        "id": "view-in-github",
        "colab_type": "text"
      },
      "source": [
        "<a href=\"https://colab.research.google.com/github/victorog17/soulcode_aulas_python/blob/main/Soulcode_Python_002_exercicio.ipynb\" target=\"_parent\"><img src=\"https://colab.research.google.com/assets/colab-badge.svg\" alt=\"Open In Colab\"/></a>"
      ]
    },
    {
      "cell_type": "markdown",
      "metadata": {
        "id": "fNTCuNFeaQEx"
      },
      "source": [
        "NOVA ATIVIDADE\n",
        "\n",
        "Atividade python 1\n",
        "\n",
        "1.Faça um programa que solicite a base e altura de um retângulo e informe sua área e perímetro."
      ]
    },
    {
      "cell_type": "code",
      "metadata": {
        "colab": {
          "base_uri": "https://localhost:8080/"
        },
        "id": "j9GLSTElbNg1",
        "outputId": "9df5910e-9882-46bb-f542-8fecc5c9564e"
      },
      "source": [
        "b = float(input('Digite o valor da base: '))\n",
        "h = float(input('Digite o valor da altura: '))\n",
        "\n",
        "a = b * h\n",
        "p = (2*b) + (2*h)\n",
        "\n",
        "print(f'Um retângulo com base {b}cm e altura {h}cm tem área de {a}cm² e perímetro de {p}cm')"
      ],
      "execution_count": null,
      "outputs": [
        {
          "output_type": "stream",
          "name": "stdout",
          "text": [
            "Digite o valor da base: 5\n",
            "Digite o valor da altura: 6\n",
            "Um retângulo com base 5.0cm e altura 6.0cm tem área de 30.0cm² e perímetro de 22.0cm\n"
          ]
        }
      ]
    },
    {
      "cell_type": "markdown",
      "metadata": {
        "id": "yEL7okB_a_Fz"
      },
      "source": [
        "2.Faça um programa que solicite o nome e preço de custo de um produto qualquer, após, processe um aumento de 65% e informe qual será o preço de venda."
      ]
    },
    {
      "cell_type": "code",
      "metadata": {
        "colab": {
          "base_uri": "https://localhost:8080/"
        },
        "id": "DcO5uKa5bOPf",
        "outputId": "c5f7551f-42d8-44de-8948-8290da72de6f"
      },
      "source": [
        "prod = str(input('Digite o nome do produto: '))\n",
        "prec = float(input('Digite o preço de custo do produto: R$'))\n",
        "\n",
        "nprec = prec * 1.65\n",
        "\n",
        "print(f'O preço de venda do produto {prod} é de R${nprec:.2f}')"
      ],
      "execution_count": null,
      "outputs": [
        {
          "output_type": "stream",
          "name": "stdout",
          "text": [
            "Digite o nome do produto: livro\n",
            "Digite o preço de custo do produto: R$100\n",
            "O preço de venda do produto livro é de R$165.00\n"
          ]
        }
      ]
    },
    {
      "cell_type": "markdown",
      "metadata": {
        "id": "CEjXfLAybHe3"
      },
      "source": [
        "3.Faça um programa que pergunte quanto a pessoa quer emprestado, faça o cálculo do empréstimo a juros  compostos. Para fazer o empréstimo solicite:\n",
        "\n",
        "– Quanto ela quer emprestado?\n",
        "\n",
        "– Em quantos meses ela vai pagar?\n",
        "\n",
        "– A Taxa de juros será de 2% ao mês.\n",
        "\n",
        "Segue a fórmula dos Juros compostos: M = C x (1+i)^t\n",
        "\n",
        "M é o valor final após a aplicação dos juros\n",
        "\n",
        "C o valor que a pessoa vai pegar emprestado\n",
        "\n",
        "i é a taxa de juros\n",
        "\n",
        "t é o tempo\n",
        "\n",
        "Ao final mostre quanto a pessoa pagará após a aplicação dos juros"
      ]
    },
    {
      "cell_type": "code",
      "metadata": {
        "colab": {
          "base_uri": "https://localhost:8080/"
        },
        "id": "ajQOzoZEbIgl",
        "outputId": "83c6e514-6d8d-4b29-e996-f2ba26d6c5e6"
      },
      "source": [
        "C = float(input('Digite o valor desejado do emprestimo: R$'))\n",
        "t = int(input('Digite o número de meses em que irá parcelar: '))\n",
        "i = 0.02\n",
        "\n",
        "M = C * pow((1+i), t)\n",
        "p = M / t\n",
        "\n",
        "print('Esse empréstimo tem taxa de juros de 2% ao mês')\n",
        "print(f'Levando em conta que o valor emprestado é de R${C:.2f} e que foi parcelado em {t} meses. \\nO valor final a ser pago será de R${M:.2f}')\n",
        "print(f'O valor de cada parcela será de R${p:.2f}')"
      ],
      "execution_count": null,
      "outputs": [
        {
          "output_type": "stream",
          "name": "stdout",
          "text": [
            "Digite o valor desejado do emprestimo: R$10000\n",
            "Digite o número de meses em que irá parcelar: 24\n",
            "Esse empréstimo tem taxa de juros de 2% ao mês\n",
            "Levando em conta que o valor emprestado é de R$10000.00 e que foi parcelado em 24 meses. \n",
            "O valor final a ser pago será de R$16084.37\n",
            "O valor de cada parcela será de R$670.18\n"
          ]
        }
      ]
    },
    {
      "cell_type": "code",
      "metadata": {
        "id": "BJCoRxHagLRF"
      },
      "source": [
        ""
      ],
      "execution_count": null,
      "outputs": []
    }
  ]
}