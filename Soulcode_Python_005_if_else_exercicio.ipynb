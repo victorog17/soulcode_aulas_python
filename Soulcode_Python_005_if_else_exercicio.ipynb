{
  "nbformat": 4,
  "nbformat_minor": 0,
  "metadata": {
    "colab": {
      "name": "Soulcode_Python_005_if_else_exercicio.ipynb",
      "provenance": [],
      "collapsed_sections": [],
      "authorship_tag": "ABX9TyPLgWqz1cZhf6PzYmkbdBO0",
      "include_colab_link": true
    },
    "kernelspec": {
      "name": "python3",
      "display_name": "Python 3"
    },
    "language_info": {
      "name": "python"
    }
  },
  "cells": [
    {
      "cell_type": "markdown",
      "metadata": {
        "id": "view-in-github",
        "colab_type": "text"
      },
      "source": [
        "<a href=\"https://colab.research.google.com/github/victorog17/soulcode_aulas_python/blob/main/Soulcode_Python_005_if_else_exercicio.ipynb\" target=\"_parent\"><img src=\"https://colab.research.google.com/assets/colab-badge.svg\" alt=\"Open In Colab\"/></a>"
      ]
    },
    {
      "cell_type": "markdown",
      "metadata": {
        "id": "izCoRke0CRwh"
      },
      "source": [
        "1.Crie um programa que compara duas strings e veja se elas são iguais.\n"
      ]
    },
    {
      "cell_type": "code",
      "metadata": {
        "colab": {
          "base_uri": "https://localhost:8080/"
        },
        "id": "0ilQi777DpwG",
        "outputId": "8d301748-2b4e-4997-e5af-7429ea6b412f"
      },
      "source": [
        "print('Vamos verificar se as duas palavras inseridas são iguais')\n",
        "n1 = str(input('Digite a primeira palavra: '))\n",
        "n2 = str(input('Digite a segunda palavra: '))\n",
        "\n",
        "print(f'A palavra \"{n1}\" é igual a palavra \"{n2}\"? {n1==n2}')"
      ],
      "execution_count": null,
      "outputs": [
        {
          "output_type": "stream",
          "name": "stdout",
          "text": [
            "Vamos verificar se as duas palavras inseridas são iguais\n",
            "Digite a primeira palavra: fera\n",
            "Digite a segunda palavra: ferinha\n",
            "A palavra \"fera\" é igual a palavra \"ferinha\"? False\n"
          ]
        }
      ]
    },
    {
      "cell_type": "markdown",
      "metadata": {
        "id": "LD2bwpVmDC-J"
      },
      "source": [
        "2.Faça um programa que leia um nome completo e imprima as 4 primeiras letras do nome.\n",
        "\n",
        "\n"
      ]
    },
    {
      "cell_type": "code",
      "metadata": {
        "colab": {
          "base_uri": "https://localhost:8080/"
        },
        "id": "dTREldZdCQbA",
        "outputId": "1a5384d8-ed5a-4765-eadb-21f076ac5f21"
      },
      "source": [
        "m1 = str(input('Digite um nome: '))\n",
        "print(f'As 4 primeiras letras do nome \"{n1}\" são \"{n1[:4]}\"')"
      ],
      "execution_count": null,
      "outputs": [
        {
          "output_type": "stream",
          "name": "stdout",
          "text": [
            "Digite um nome: amanda roberta de oliveira goncalves\n",
            "As 4 primeiras letras do nome \"amanda\" são \"aman\"\n"
          ]
        }
      ]
    },
    {
      "cell_type": "markdown",
      "metadata": {
        "id": "wDp1CwpZDNg-"
      },
      "source": [
        "3.Com o mesmo nome da questão 2, agora verifique a quantidade de caracteres que contém o nome digitado (Não pode contar os espaços em branco)\n"
      ]
    },
    {
      "cell_type": "code",
      "metadata": {
        "colab": {
          "base_uri": "https://localhost:8080/"
        },
        "id": "S0hrZuxEDQWx",
        "outputId": "98174bdf-97e4-4ed5-bc5b-c724d154f2b6"
      },
      "source": [
        "print(f'O nome \"{m1}\", contém {len(m1.replace(\" \", \"\"))} caracteres')"
      ],
      "execution_count": null,
      "outputs": [
        {
          "output_type": "stream",
          "name": "stdout",
          "text": [
            "O nome \"amanda roberta de oliveira goncalves\", contém 32 caracteres\n"
          ]
        }
      ]
    },
    {
      "cell_type": "markdown",
      "metadata": {
        "id": "2I-3QAkYDRAD"
      },
      "source": [
        "4.Leia uma frase qualquer e verifique se a pessoa digitou a palavra “cachorro” nessa frase (Não importa a maneira como a pessoa escreveu)"
      ]
    },
    {
      "cell_type": "code",
      "metadata": {
        "colab": {
          "base_uri": "https://localhost:8080/"
        },
        "id": "VxXOyfezDUAa",
        "outputId": "74f2c208-3106-41fa-ce7a-2d7009fa22a5"
      },
      "source": [
        "d1 = str(input('Digite uma palavra: '))\n",
        "print(f'A palavra \"{d1}\" contém a palavra \"cachorro\"? {d1 == \"cachorro\"}')"
      ],
      "execution_count": null,
      "outputs": [
        {
          "output_type": "stream",
          "name": "stdout",
          "text": [
            "Digite uma palavra: pato\n",
            "A palavra \"pato\" contém a palavra \"cachorro\"? False\n"
          ]
        }
      ]
    },
    {
      "cell_type": "markdown",
      "metadata": {
        "id": "XJMTSz_0DUdG"
      },
      "source": [
        "5.Crie um programa que leia uma string e mostre a string de trás pra frente até o 6º caractere\n"
      ]
    },
    {
      "cell_type": "code",
      "metadata": {
        "colab": {
          "base_uri": "https://localhost:8080/"
        },
        "id": "Xb40HDbxDXbP",
        "outputId": "375d4284-01e1-4147-eeb7-005c8a058954"
      },
      "source": [
        "b1 = str(input('Digite alguma palavra: '))\n",
        "print(f'A palavra \"{b1}\" de trás pra frente até o 6º caractere é escrita assim \"{b1[:-7:-1]}\"')"
      ],
      "execution_count": null,
      "outputs": [
        {
          "output_type": "stream",
          "name": "stdout",
          "text": [
            "Digite alguma palavra: victor\n",
            "A palavra \"victor\" de trás pra frente até o 6º caractere é escrita assim \"rotciv\"\n"
          ]
        }
      ]
    },
    {
      "cell_type": "markdown",
      "metadata": {
        "id": "MvYwdcyPDYIf"
      },
      "source": [
        "6.Faça um programa que conte o numero de 1’s que aparecem em um string. Exemplo: ´ 0011001 -> 3"
      ]
    },
    {
      "cell_type": "code",
      "metadata": {
        "colab": {
          "base_uri": "https://localhost:8080/"
        },
        "id": "pqFkVj8KDaXK",
        "outputId": "f7f9fde7-07ee-4254-cfae-b87d6cfbd578"
      },
      "source": [
        "a = '0011001'\n",
        "print(f\"A string '{a}', contém {a.count('1')} 1's\")"
      ],
      "execution_count": null,
      "outputs": [
        {
          "output_type": "stream",
          "name": "stdout",
          "text": [
            "A string '0011001', contém 3 1's\n"
          ]
        }
      ]
    },
    {
      "cell_type": "markdown",
      "metadata": {
        "id": "q73voiS8Dawa"
      },
      "source": [
        "7.Escreva um programa que substitui as ocorrências de um caractere 0 em uma string por ˆ outro caractere 1."
      ]
    },
    {
      "cell_type": "code",
      "metadata": {
        "colab": {
          "base_uri": "https://localhost:8080/"
        },
        "id": "26CVdNQdDdDX",
        "outputId": "3399d0a6-f68d-441e-d55e-4bad9aac6e1f"
      },
      "source": [
        "c1 = str(input('Digite um número que de 5 digitos (ele será uma string): '))\n",
        "c2 = c1.replace('0', '1')\n",
        "\n",
        "print(f'Você digitou \"{c1}\", substituindo os 0s por 1s, ele fica da seguinte forma \"{c2}\"')"
      ],
      "execution_count": null,
      "outputs": [
        {
          "output_type": "stream",
          "name": "stdout",
          "text": [
            "Digite um número que de 5 digitos (ele será uma string): 54006\n",
            "Você digitou \"54006\", substituindo os 0s por 1s, ele fica da seguinte forma \"54116\"\n"
          ]
        }
      ]
    },
    {
      "cell_type": "markdown",
      "metadata": {
        "id": "UoL76-zuDeBh"
      },
      "source": [
        "8.Leia um nome e verifique se a primeira letra do nome está com letra maiúscula"
      ]
    },
    {
      "cell_type": "code",
      "metadata": {
        "id": "E1uZoE0ADgbM",
        "colab": {
          "base_uri": "https://localhost:8080/"
        },
        "outputId": "8c660344-f37e-49ff-8fc4-a09f2dfd847d"
      },
      "source": [
        "letra = str(input('Digite um nome: '))\n",
        "\n",
        "if letra[0].isupper():\n",
        "  print('Maiúscula')\n",
        "elif letra[0].islower():\n",
        "  print('Minuscula')\n",
        "else:\n",
        "  print('Invalido')"
      ],
      "execution_count": null,
      "outputs": [
        {
          "output_type": "stream",
          "name": "stdout",
          "text": [
            "Digite um nome: 03\n",
            "Invalido\n"
          ]
        }
      ]
    },
    {
      "cell_type": "markdown",
      "metadata": {
        "id": "2gAt8LGaDg8w"
      },
      "source": [
        "9.Faça um programa em que troque todas as ocorrências de uma letra L1 pela letra L2 em ˆ uma string. A string e as letras L1 e L2 devem ser fornecidas pelo usuario."
      ]
    },
    {
      "cell_type": "code",
      "metadata": {
        "id": "LTdu0mQZDjIy"
      },
      "source": [
        ""
      ],
      "execution_count": null,
      "outputs": []
    },
    {
      "cell_type": "markdown",
      "metadata": {
        "id": "HjHN2bSPDjrx"
      },
      "source": [
        "10.Faça um programa que receba duas frases distintas e imprima de maneira invertida, trocando as letras A por *."
      ]
    },
    {
      "cell_type": "code",
      "metadata": {
        "id": "FySIBLPdDlcJ"
      },
      "source": [
        ""
      ],
      "execution_count": null,
      "outputs": []
    },
    {
      "cell_type": "markdown",
      "metadata": {
        "id": "VQOD6-FZfO2S"
      },
      "source": [
        "1 - Faça um algoritmo que imprima na tela se um número lido é par ou ímpar."
      ]
    },
    {
      "cell_type": "code",
      "metadata": {
        "colab": {
          "base_uri": "https://localhost:8080/"
        },
        "id": "tWAzSQsNfZl1",
        "outputId": "31a9da0f-4ab6-4680-8b6e-dac46f22d0ad"
      },
      "source": [
        "n = int(input('Digite um número: '))\n",
        "if (n % 2) == 0:\n",
        "  print('Par')\n",
        "else:\n",
        "  print('Impar')"
      ],
      "execution_count": null,
      "outputs": [
        {
          "output_type": "stream",
          "name": "stdout",
          "text": [
            "Digite um número: 5\n",
            "Impar\n"
          ]
        }
      ]
    },
    {
      "cell_type": "markdown",
      "metadata": {
        "id": "VRAvHkOriUl5"
      },
      "source": [
        "2 - Escreva um programa para ler dois valores (considere que não serão informados valores iguais) e print qual é o maior."
      ]
    },
    {
      "cell_type": "code",
      "metadata": {
        "colab": {
          "base_uri": "https://localhost:8080/"
        },
        "id": "N309Pwg4ftrQ",
        "outputId": "8ebe0f9a-8c4d-4cc2-e747-f41f6e291163"
      },
      "source": [
        "n1 = int(input('Insira o primeiro número: '))\n",
        "n2 = int(input('Insira o segundo número: '))\n",
        "if n1 > n2:\n",
        "  print(f'{n1} é MAIOR que {n2}')\n",
        "elif n2 > n1:\n",
        "  print(f'{n2} é MAIOR que {n1}')\n",
        "else:\n",
        "  print(f'{n1} e {n2} são IGUAIS')"
      ],
      "execution_count": null,
      "outputs": [
        {
          "output_type": "stream",
          "name": "stdout",
          "text": [
            "Insira o primeiro número: 5\n",
            "Insira o segundo número: 5\n",
            "5 e 5 são IGUAIS\n"
          ]
        }
      ]
    },
    {
      "cell_type": "markdown",
      "metadata": {
        "id": "GPCYXxXonxOj"
      },
      "source": [
        "3. Exercicio de Altura"
      ]
    },
    {
      "cell_type": "code",
      "metadata": {
        "colab": {
          "base_uri": "https://localhost:8080/"
        },
        "id": "rEGvdbnPjHC6",
        "outputId": "30ab4011-e296-4af8-dd4b-23732a91f766"
      },
      "source": [
        "altura = float(input('Digite sua altura: '))\n",
        "\n",
        "if altura > 1.70:\n",
        "  print('Estatura Alta')\n",
        "elif altura == 1.70:\n",
        "  print('Estatura Média')\n",
        "else:\n",
        "  print('Estatura Baixa')"
      ],
      "execution_count": null,
      "outputs": [
        {
          "output_type": "stream",
          "name": "stdout",
          "text": [
            "Digite sua altura: 1.71\n",
            "Estatura Alta\n"
          ]
        }
      ]
    },
    {
      "cell_type": "markdown",
      "metadata": {
        "id": "xJ0sVQ00p91f"
      },
      "source": [
        " Um posto está vendendo combustíveis com a seguinte tabela de descontos: \n",
        "\n",
        "Álcool:\n",
        " - até 20 litros, desconto de 3% por litro \n",
        " - acima de 20 litros, desconto de 5% por litro\n",
        "\n",
        "Gasolina:\n",
        " - até 20 litros, desconto de 4% por litro\n",
        " - acima de 20 litros, desconto de 6% por litro\n",
        "\n",
        "Escreva um algoritmo que leia o número de litros vendidos e o tipo de combustível (codificado da seguinte forma: A-álcool, G-gasolina), calcule e imprima o valor a ser pago pelo cliente sabendo-se que o preço do litro da gasolina é RS 6,10 e o preço do litro do álcool é R$ 5,20."
      ]
    },
    {
      "cell_type": "code",
      "metadata": {
        "colab": {
          "base_uri": "https://localhost:8080/"
        },
        "id": "Y2ZgZgU9os-I",
        "outputId": "a7bf5edd-9268-43a4-e164-95b86b93bcd3"
      },
      "source": [
        "n = str(input('Escolha qual tipo de combustível irá comprar. Digite \"A\" para álcool e \"G\" para gasolina\\n')).title().strip()[0]\n",
        "\n",
        "if n == 'A':\n",
        "  print('Você escolheu Álcool')\n",
        "  al = float(input('Insira quantos litros irá comprar: '))\n",
        "  if al <= 20:\n",
        "    preco = al * 5.20 * 0.97\n",
        "  else:\n",
        "    preco = al * 5.20 * 0.95\n",
        "  print(f'Você irá pagar R${preco:.2f}')\n",
        "elif n == 'G':\n",
        "  print('Você escolheu Gasolina')\n",
        "  gas = float(input('Insira quantos litros irá comprar: '))\n",
        "  if gas <= 20:\n",
        "    preco = gas * 6.10 * 0.96\n",
        "  else:\n",
        "    preco = gas * 6.10 * 0.94\n",
        "  print(f'Você irá pagar R${preco:.2f}')\n",
        "else:\n",
        "  print('Opção invalida. Insira \"A\" ou \"G\" para escolher um combustível.')"
      ],
      "execution_count": null,
      "outputs": [
        {
          "output_type": "stream",
          "name": "stdout",
          "text": [
            "Escolha qual tipo de combustível irá comprar. Digite \"A\" para álcool e \"G\" para gasolina\n",
            " abelha\n",
            "Você escolheu Álcool\n",
            "Insira quantos litros irá comprar: 85\n",
            "Você irá pagar R$419.90\n"
          ]
        }
      ]
    },
    {
      "cell_type": "markdown",
      "metadata": {
        "id": "d7T3xT8brccO"
      },
      "source": [
        "4) Faça um algoritmo para ler um número que é um código de usuário. Caso este código seja diferente de um código armazenado internamente no algoritmo (igual a 1234) deve ser apresentada a mensagem ‘Usuário inválido!’. Caso o Código seja correto, deve ser lido outro valor que é a senha. Se esta senha estiver incorreta (a certa é 9999) deve ser mostrada a mensagem ‘senha incorreta’. Caso a senha esteja correta, deve ser mostrada a mensagem ‘Acesso permitido’."
      ]
    },
    {
      "cell_type": "code",
      "metadata": {
        "colab": {
          "base_uri": "https://localhost:8080/"
        },
        "id": "XpWp3X7DrdO6",
        "outputId": "f20e0eec-408e-4aeb-e87b-cc4da30b106b"
      },
      "source": [
        "c1 = int(input('Digite o código de usuário: '))\n",
        "c2 = 1234\n",
        "senha1 = 9999\n",
        "\n",
        "if c1 == c2:\n",
        "  senha2 = int(input('Digite sua senha: '))\n",
        "  if senha1 == senha2:\n",
        "    print('Acesso Permitido')\n",
        "  else:\n",
        "    print('Senha Incorreta')\n",
        "else:\n",
        "  print('Usuario Invalido')"
      ],
      "execution_count": null,
      "outputs": [
        {
          "output_type": "stream",
          "name": "stdout",
          "text": [
            "Digite o código de usuário: 1234\n",
            "Digite sua senha: 9999\n",
            "Acesso Permitido\n"
          ]
        }
      ]
    },
    {
      "cell_type": "markdown",
      "metadata": {
        "id": "jqO7Q_pX-4vb"
      },
      "source": [
        "7) Elabore um algoritmo que calcule o que deve ser pago por um produto, considerando o preço normal deetiqueta e a escolha da condição de pagamento. Utilize os códigos da tabela a seguir para ler qual acondição de pagamento escolhida e efetuar o cálculo adequado.\n",
        "\n",
        "Código Condição de pagamento\n",
        "\n",
        "1 À vista em dinheiro ou cheque, recebe 10% de desconto\n",
        "\n",
        "2 À vista no cartão de crédito, recebe 15% de desconto\n",
        "\n",
        "3 Em duas vezes, preço normal de etiqueta sem juros\n",
        "\n",
        "4 Em duas vezes, preço normal de etiqueta mais juros de 10%\n"
      ]
    },
    {
      "cell_type": "code",
      "metadata": {
        "colab": {
          "base_uri": "https://localhost:8080/"
        },
        "id": "KJ93c7058y0n",
        "outputId": "76970df7-3ae7-4531-da39-2cbb09b431b7"
      },
      "source": [
        "prod = int(input('Insira o preço do produto: R$'))\n",
        "pag = int(input('Qual será a forma de pagamento? \\nInsira \"1\" para dinheiro ou cheque.\\nInsira \"2\" para cartão de crédito a vista. \\nInsira \"3\" para cartão de crédito em duas vezes. \\nInsira \"4\" para cartão de crédito em três vezes.\\n'))\n",
        "if pag == 1:\n",
        "  preco = prod * 0.9\n",
        "  print('Você escolheu pagamento em dinheiro ou cheque.')\n",
        "  print(f'O valor final do produto será de R${preco:.2f}')\n",
        "elif pag == 2:\n",
        "  preco = prod * 0.85\n",
        "  print('Você escolheu pagamento no cartão de crédito à vista')\n",
        "  print(f'O valor final do produto será de R${preco:.2f}')\n",
        "elif pag == 3:\n",
        "  preco = prod\n",
        "  print('Você escolheu pagamento no cartão de crédito em duas vezes')\n",
        "  print(f'Você pagará em duas vezes de {(preco/2):.2f}')\n",
        "  print(f'O valor final do produto será de R${preco:.2f}')\n",
        "elif pag == 4:\n",
        "  preco = prod * 1.1\n",
        "  print('Você escolheu pagamento no cartão de crédito em três vezes')\n",
        "  print(f'Você pagará em três vezes de {(preco/3):.2f}')\n",
        "  print(f'O valor final do produto será de R${preco:.2f}')\n",
        "else:\n",
        "  print('Digite uma opção valida')"
      ],
      "execution_count": null,
      "outputs": [
        {
          "output_type": "stream",
          "name": "stdout",
          "text": [
            "Insira o preço do produto: R$100\n",
            "Qual será a forma de pagamento? \n",
            "Insira \"1\" para dinheiro ou cheque.\n",
            "Insira \"2\" para cartão de crédito a vista. \n",
            "Insira \"3\" para cartão de crédito em duas vezes. \n",
            "Insira \"4\" para cartão de crédito em três vezes.\n",
            "3\n",
            "Você escolheu pagamento no cartão de crédito em duas vezes\n",
            "Você pagará em duas vezes de 50.00\n",
            "O valor final do produto será de R$100.00\n"
          ]
        }
      ]
    },
    {
      "cell_type": "markdown",
      "metadata": {
        "id": "ZQ12fiKN-9II"
      },
      "source": [
        "8) Escreva um algoritmo que leia o número de identificação, as 3 notas obtidas por um aluno nas 3 verificações e a média dos exercícios que fazem parte da avaliação, e calcule a média de aproveitamento, usando a fórmula:\n",
        "\n",
        "MA := (nota1 + nota 2 * 2 + nota 3 * 3 + ME)/7\n",
        "\n",
        "A atribuição dos conceitos obedece a tabela abaixo. O algoritmo deve escrever o número do aluno, suas notas, a média dos exercícios, a média de aproveitamento, o conceito correspondente e a mensagem 'Aprovado' se o conceito for A, B ou C, e 'Reprovado' se o conceito for D ou E.\n",
        "\n",
        "Média de aproveitamento Conceito\n",
        "\n",
        "\">= 90 A\"\n",
        "\n",
        "\">= 75 e < 90 B\"\n",
        "\n",
        "\">= 60 e < 75 C\"\n",
        "\n",
        "\">= 40 e < 60 D\"\n",
        "\n",
        "\"< 40 E\"\n"
      ]
    },
    {
      "cell_type": "code",
      "metadata": {
        "colab": {
          "base_uri": "https://localhost:8080/"
        },
        "id": "5WwfjoSYAy9F",
        "outputId": "3a703125-5d2e-44a1-b149-47eaad046f48"
      },
      "source": [
        "print('Verificação se o aluno foi aprovado. Nota entre 0 e 100')\n",
        "n1 = int(input('Digite a primeira nota: '))\n",
        "n2 = int(input('Digite a segunda nota: '))\n",
        "n3 = int(input('Digite a terceira nota: '))\n",
        "me = (n1 + n2 + n3)/3\n",
        "ma = (n1 + (n2 *2) + (n3 *3) + me)/7\n",
        "\n",
        "if ma >= 90:\n",
        "  print(f'Sua média final foi {ma:.2f} e você foi APROVADO com conceito A')\n",
        "elif ma > 75:\n",
        "  print(f'Sua média final foi {ma:.2f} e você foi APROVADO com conceito B')\n",
        "elif ma > 60:\n",
        "  print(f'Sua média final foi {ma:.2f} e você foi APROVADO com conceito C')\n",
        "elif ma > 40:\n",
        "  print(f'Sua média final foi {ma:.2f} e você foi REPROVADO com conceito D')\n",
        "else:\n",
        "  print(f'Sua média final foi {ma:.2f} e você foi REPROVADO com conceito E')"
      ],
      "execution_count": null,
      "outputs": [
        {
          "output_type": "stream",
          "name": "stdout",
          "text": [
            "Verificação se o aluno foi aprovado. Nota entre 0 e 100\n",
            "Digite a primeira nota: 10\n",
            "Digite a segunda nota: 20\n",
            "Digite a terceira nota: 35\n",
            "Sua média final foi 25.24 e você foi REPROVADO com conceito E\n"
          ]
        }
      ]
    },
    {
      "cell_type": "code",
      "metadata": {
        "id": "tw8Tzyg6KWYQ"
      },
      "source": [
        ""
      ],
      "execution_count": null,
      "outputs": []
    }
  ]
}