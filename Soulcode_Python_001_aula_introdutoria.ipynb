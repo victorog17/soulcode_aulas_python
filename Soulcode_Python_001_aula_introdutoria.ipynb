{
  "nbformat": 4,
  "nbformat_minor": 0,
  "metadata": {
    "colab": {
      "name": "Soulcode_Python_001_aula_introdutoria.ipynb",
      "provenance": [],
      "collapsed_sections": [],
      "authorship_tag": "ABX9TyMfz3gQh1BAmZl1BehWdXRW",
      "include_colab_link": true
    },
    "kernelspec": {
      "name": "python3",
      "display_name": "Python 3"
    },
    "language_info": {
      "name": "python"
    }
  },
  "cells": [
    {
      "cell_type": "markdown",
      "metadata": {
        "id": "view-in-github",
        "colab_type": "text"
      },
      "source": [
        "<a href=\"https://colab.research.google.com/github/victorog17/soulcode_aulas_python/blob/main/Soulcode_Python_001_aula_introdutoria.ipynb\" target=\"_parent\"><img src=\"https://colab.research.google.com/assets/colab-badge.svg\" alt=\"Open In Colab\"/></a>"
      ]
    },
    {
      "cell_type": "code",
      "metadata": {
        "id": "IRkY_xkAQXr8"
      },
      "source": [
        "#Declarar uma variavel em Python\n",
        "idade = 27\n",
        "nome = 'Maria'\n",
        "nome2 = 'João'\n",
        "altura = 1.72"
      ],
      "execution_count": null,
      "outputs": []
    },
    {
      "cell_type": "code",
      "metadata": {
        "colab": {
          "base_uri": "https://localhost:8080/"
        },
        "id": "bPtEtUKgeFMA",
        "outputId": "2cb59bbd-301b-46da-887a-153eacf26a62"
      },
      "source": [
        "type(altura)"
      ],
      "execution_count": null,
      "outputs": [
        {
          "output_type": "execute_result",
          "data": {
            "text/plain": [
              "float"
            ]
          },
          "metadata": {},
          "execution_count": 5
        }
      ]
    },
    {
      "cell_type": "code",
      "metadata": {
        "id": "mPZ1ZcxIeG3h"
      },
      "source": [
        "def soma(n1, n2):\n",
        "  total = n1 + n2\n",
        "  return print(f'A soma entre {n1} e {n2} é igual a {total}')"
      ],
      "execution_count": null,
      "outputs": []
    },
    {
      "cell_type": "code",
      "metadata": {
        "colab": {
          "base_uri": "https://localhost:8080/"
        },
        "id": "3B4X0cc6mqBg",
        "outputId": "538a4d73-1fa6-4db1-b34d-2eaeb4fb06df"
      },
      "source": [
        "soma(3, 5)"
      ],
      "execution_count": null,
      "outputs": [
        {
          "output_type": "stream",
          "name": "stdout",
          "text": [
            "A soma entre 3 e 5 é igual a 8\n"
          ]
        }
      ]
    },
    {
      "cell_type": "code",
      "metadata": {
        "id": "324p42-omsJq"
      },
      "source": [
        "def contas(salario, despesas):\n",
        "  x = (despesas / salario) * 100\n",
        "  return print(f'Sendo que seu salário é de R${salario:.2f} e suas despesas são R${despesas:.2f}\\nSuas despesas correspondem a {x:.2f}% do seu salário')"
      ],
      "execution_count": null,
      "outputs": []
    },
    {
      "cell_type": "code",
      "metadata": {
        "colab": {
          "base_uri": "https://localhost:8080/"
        },
        "id": "kLO2AzphzVQr",
        "outputId": "50e776ba-a42d-43b1-8b61-f126d4756dcb"
      },
      "source": [
        "contas(2000, 1438)"
      ],
      "execution_count": null,
      "outputs": [
        {
          "output_type": "stream",
          "name": "stdout",
          "text": [
            "Sendo que seu salário é de R$2000.00 e suas despesas são R$1438.00\n",
            "Suas despesas correspondem a 71.90% do seu salário\n"
          ]
        }
      ]
    },
    {
      "cell_type": "code",
      "metadata": {
        "colab": {
          "base_uri": "https://localhost:8080/"
        },
        "id": "MesurIsX0rAB",
        "outputId": "c23b0fb3-7ae5-40e9-b917-cb760e6fe70f"
      },
      "source": [
        "n1 = int(input('Digite o número a ser dividido: '))\n",
        "n2 = int(input('Digite o divisor:' ))\n",
        "\n",
        "n3 = n1 // n2\n",
        "n4 = n1 % n2\n",
        "\n",
        "print(f'A divisão inteira de {n1} por {n2} é igual a {n3} com resto de {n4}')"
      ],
      "execution_count": null,
      "outputs": [
        {
          "output_type": "stream",
          "name": "stdout",
          "text": [
            "Digite o número a ser dividido: 8\n",
            "Digite o divisor:5\n",
            "A divisão inteira de 8 por 5 é igual a 1 com resto de 3\n"
          ]
        }
      ]
    },
    {
      "cell_type": "code",
      "metadata": {
        "colab": {
          "base_uri": "https://localhost:8080/"
        },
        "id": "IPGqiza--dLa",
        "outputId": "17879e91-e361-4900-850d-770392e4256c"
      },
      "source": [
        "x1 = int(input('Digite o número que quer elevar ao cubo: '))\n",
        "\n",
        "x2 = pow(x1, 3)\n",
        "\n",
        "print(f'{x1} ao cubo é igual a {x2}')"
      ],
      "execution_count": null,
      "outputs": [
        {
          "output_type": "stream",
          "name": "stdout",
          "text": [
            "Digite o número que quer elevar ao cubo: 6\n",
            "6 ao cubo é igual a 216\n"
          ]
        }
      ]
    },
    {
      "cell_type": "code",
      "metadata": {
        "id": "60qJ5Jh1_HZg"
      },
      "source": [
        ""
      ],
      "execution_count": null,
      "outputs": []
    }
  ]
}