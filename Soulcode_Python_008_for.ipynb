{
  "nbformat": 4,
  "nbformat_minor": 0,
  "metadata": {
    "colab": {
      "name": "Soulcode_Python_008_for.ipynb",
      "provenance": [],
      "collapsed_sections": [],
      "authorship_tag": "ABX9TyPgYfCA0EGpcw0KHNoNBNuc",
      "include_colab_link": true
    },
    "kernelspec": {
      "name": "python3",
      "display_name": "Python 3"
    },
    "language_info": {
      "name": "python"
    }
  },
  "cells": [
    {
      "cell_type": "markdown",
      "metadata": {
        "id": "view-in-github",
        "colab_type": "text"
      },
      "source": [
        "<a href=\"https://colab.research.google.com/github/victorog17/soulcode_aulas_python/blob/main/Soulcode_Python_008_for.ipynb\" target=\"_parent\"><img src=\"https://colab.research.google.com/assets/colab-badge.svg\" alt=\"Open In Colab\"/></a>"
      ]
    },
    {
      "cell_type": "markdown",
      "metadata": {
        "id": "OOSz-ECt8QMd"
      },
      "source": [
        "Escrever um algoritmo que gera e escreve os números ímpares entre 100 e 200."
      ]
    },
    {
      "cell_type": "code",
      "metadata": {
        "colab": {
          "base_uri": "https://localhost:8080/"
        },
        "id": "l87Hr2K98Lf6",
        "outputId": "357a2f09-d9bb-46b0-921b-dcb9bb6251ae"
      },
      "source": [
        "for i in range(100, 200):\n",
        "  if i % 2 == 1:\n",
        "    print(i, end=' ')"
      ],
      "execution_count": null,
      "outputs": [
        {
          "output_type": "stream",
          "name": "stdout",
          "text": [
            "101 103 105 107 109 111 113 115 117 119 121 123 125 127 129 131 133 135 137 139 141 143 145 147 149 151 153 155 157 159 161 163 165 167 169 171 173 175 177 179 181 183 185 187 189 191 193 195 197 199 "
          ]
        }
      ]
    },
    {
      "cell_type": "markdown",
      "metadata": {
        "id": "Cr0yp2j08QpE"
      },
      "source": [
        "Faça um algoritmo que leia um número positivo e imprima na tela todos os divisores desse número.\n",
        "\n",
        "Ex: 16 - 1, 2, 4, 8, 16\n",
        "\n",
        "Ex: 27 - 1, 3, 9, 27"
      ]
    },
    {
      "cell_type": "markdown",
      "metadata": {
        "id": "LrCSoozaApST"
      },
      "source": [
        "Faça um algoritmo que imprima na tela um sequência de N números pares."
      ]
    },
    {
      "cell_type": "code",
      "metadata": {
        "colab": {
          "base_uri": "https://localhost:8080/"
        },
        "id": "okaWAgrqAo7c",
        "outputId": "91ae67b5-6008-4a6b-8970-beb83d6c6c7b"
      },
      "source": [
        "n = int(input('Digite um número maior que 0: '))\n",
        "while n < 0:\n",
        "  n = int(input('Digite um número maior que 0: '))\n",
        "for i in range(1, n+1):\n",
        "  if i % 2 == 0:\n",
        "    print(i, end=' ')"
      ],
      "execution_count": null,
      "outputs": [
        {
          "output_type": "stream",
          "name": "stdout",
          "text": [
            "Digite um número maior que 0: 26\n",
            "2 4 6 8 10 12 14 16 18 20 22 24 26 "
          ]
        }
      ]
    },
    {
      "cell_type": "code",
      "metadata": {
        "colab": {
          "base_uri": "https://localhost:8080/"
        },
        "id": "QmmgQlEd8n39",
        "outputId": "d0baf21b-ea98-4ea1-d6ec-06597eac51cb"
      },
      "source": [
        "n = int(input('Digite um número positivo: '))\n",
        "while n < 1:\n",
        "  n = int(input('Digite um número positivo: '))\n",
        "for i in range(1, n+1):\n",
        "  if n % i == 0:\n",
        "    print(i, end=' ')"
      ],
      "execution_count": null,
      "outputs": [
        {
          "output_type": "stream",
          "name": "stdout",
          "text": [
            "Digite um número positivo: 49\n",
            "1 7 49 "
          ]
        }
      ]
    },
    {
      "cell_type": "code",
      "metadata": {
        "id": "cfNaE1s-9oTA"
      },
      "source": [
        ""
      ],
      "execution_count": null,
      "outputs": []
    }
  ]
}