{
  "nbformat": 4,
  "nbformat_minor": 0,
  "metadata": {
    "colab": {
      "name": "Soulcode_Python_007_while.ipynb",
      "provenance": [],
      "collapsed_sections": [],
      "authorship_tag": "ABX9TyP1jxLY0Eslsj7D87FvS5MZ",
      "include_colab_link": true
    },
    "kernelspec": {
      "name": "python3",
      "display_name": "Python 3"
    },
    "language_info": {
      "name": "python"
    }
  },
  "cells": [
    {
      "cell_type": "markdown",
      "metadata": {
        "id": "view-in-github",
        "colab_type": "text"
      },
      "source": [
        "<a href=\"https://colab.research.google.com/github/victorog17/soulcode_aulas_python/blob/main/Soulcode_Python_007_while.ipynb\" target=\"_parent\"><img src=\"https://colab.research.google.com/assets/colab-badge.svg\" alt=\"Open In Colab\"/></a>"
      ]
    },
    {
      "cell_type": "markdown",
      "metadata": {
        "id": "ItoC3bVLeH5x"
      },
      "source": [
        "Faça o algoritmo que obrigue o usuário a digitar um número negativo.\n",
        "\n",
        "Mostre o número negativo na tela."
      ]
    },
    {
      "cell_type": "code",
      "metadata": {
        "colab": {
          "base_uri": "https://localhost:8080/"
        },
        "id": "cwIDQVJeeDXA",
        "outputId": "b50648f8-e179-472d-bdec-92f58c65145d"
      },
      "source": [
        "num = 0\n",
        "while num >= 0:\n",
        "  num = int(input('Digite um número negativo: '))\n",
        "print(f'Parabéns você digitou o número {num}')"
      ],
      "execution_count": null,
      "outputs": [
        {
          "output_type": "stream",
          "name": "stdout",
          "text": [
            "Digite um número negativo: 1\n",
            "Digite um número negativo: 5\n",
            "Digite um número negativo: -2\n",
            "Parabéns você digitou o número -2\n"
          ]
        }
      ]
    },
    {
      "cell_type": "markdown",
      "metadata": {
        "id": "TqPxhx6ieUgI"
      },
      "source": [
        "Faça um algoritmo que obrigue o usuário a digitar 10 números negativos.\n",
        "\n",
        "Mostre os números negativos na tela."
      ]
    },
    {
      "cell_type": "code",
      "metadata": {
        "colab": {
          "base_uri": "https://localhost:8080/"
        },
        "id": "UpEK9Ehoei91",
        "outputId": "2de5550f-f78e-4321-a838-940b6f96d9e4"
      },
      "source": [
        "cont = 0\n",
        "\n",
        "while cont < 10:\n",
        "  num = 0\n",
        "  while num >= 0:\n",
        "    num = int(input('Digite um número negativo: '))\n",
        "  cont += 1\n",
        "  print(f'{cont}º número aceito, você digitou {num}')"
      ],
      "execution_count": null,
      "outputs": [
        {
          "output_type": "stream",
          "name": "stdout",
          "text": [
            "Digite um número negativo: 5\n",
            "Digite um número negativo: -1\n",
            "1º número aceito, você digitou -1\n",
            "Digite um número negativo: -8\n",
            "2º número aceito, você digitou -8\n",
            "Digite um número negativo: -9\n",
            "3º número aceito, você digitou -9\n",
            "Digite um número negativo: 6\n",
            "Digite um número negativo: -8\n",
            "4º número aceito, você digitou -8\n",
            "Digite um número negativo: -5\n",
            "5º número aceito, você digitou -5\n",
            "Digite um número negativo: -4\n",
            "6º número aceito, você digitou -4\n",
            "Digite um número negativo: 3\n",
            "Digite um número negativo: -3\n",
            "7º número aceito, você digitou -3\n",
            "Digite um número negativo: -8\n",
            "8º número aceito, você digitou -8\n",
            "Digite um número negativo: -7\n",
            "9º número aceito, você digitou -7\n",
            "Digite um número negativo: -9\n",
            "10º número aceito, você digitou -9\n"
          ]
        }
      ]
    },
    {
      "cell_type": "markdown",
      "metadata": {
        "id": "4v3-zcRYohFB"
      },
      "source": [
        "1) Escrever um programa para exibir os números de 1 até 50 na tela."
      ]
    },
    {
      "cell_type": "code",
      "metadata": {
        "colab": {
          "base_uri": "https://localhost:8080/"
        },
        "id": "aGt6UEPhoh2r",
        "outputId": "663cdc54-732b-43bc-bdb8-cf8da978a829"
      },
      "source": [
        "num = 1\n",
        "\n",
        "while num <= 50:\n",
        "  print(num)\n",
        "  num += 1"
      ],
      "execution_count": null,
      "outputs": [
        {
          "output_type": "stream",
          "name": "stdout",
          "text": [
            "1\n",
            "2\n",
            "3\n",
            "4\n",
            "5\n",
            "6\n",
            "7\n",
            "8\n",
            "9\n",
            "10\n",
            "11\n",
            "12\n",
            "13\n",
            "14\n",
            "15\n",
            "16\n",
            "17\n",
            "18\n",
            "19\n",
            "20\n",
            "21\n",
            "22\n",
            "23\n",
            "24\n",
            "25\n",
            "26\n",
            "27\n",
            "28\n",
            "29\n",
            "30\n",
            "31\n",
            "32\n",
            "33\n",
            "34\n",
            "35\n",
            "36\n",
            "37\n",
            "38\n",
            "39\n",
            "40\n",
            "41\n",
            "42\n",
            "43\n",
            "44\n",
            "45\n",
            "46\n",
            "47\n",
            "48\n",
            "49\n",
            "50\n"
          ]
        }
      ]
    },
    {
      "cell_type": "markdown",
      "metadata": {
        "id": "LYQzrzwno4QC"
      },
      "source": [
        "2) Escrever um programa para exibir os números de 25 a 85 na tela."
      ]
    },
    {
      "cell_type": "code",
      "metadata": {
        "colab": {
          "base_uri": "https://localhost:8080/"
        },
        "id": "OgzPB3n7owho",
        "outputId": "f370e92b-f56c-4603-892c-617fc20ec765"
      },
      "source": [
        "num = 25\n",
        "while num <= 85:\n",
        "  print(num)\n",
        "  num += 1"
      ],
      "execution_count": null,
      "outputs": [
        {
          "output_type": "stream",
          "name": "stdout",
          "text": [
            "25\n",
            "26\n",
            "27\n",
            "28\n",
            "29\n",
            "30\n",
            "31\n",
            "32\n",
            "33\n",
            "34\n",
            "35\n",
            "36\n",
            "37\n",
            "38\n",
            "39\n",
            "40\n",
            "41\n",
            "42\n",
            "43\n",
            "44\n",
            "45\n",
            "46\n",
            "47\n",
            "48\n",
            "49\n",
            "50\n",
            "51\n",
            "52\n",
            "53\n",
            "54\n",
            "55\n",
            "56\n",
            "57\n",
            "58\n",
            "59\n",
            "60\n",
            "61\n",
            "62\n",
            "63\n",
            "64\n",
            "65\n",
            "66\n",
            "67\n",
            "68\n",
            "69\n",
            "70\n",
            "71\n",
            "72\n",
            "73\n",
            "74\n",
            "75\n",
            "76\n",
            "77\n",
            "78\n",
            "79\n",
            "80\n",
            "81\n",
            "82\n",
            "83\n",
            "84\n",
            "85\n"
          ]
        }
      ]
    },
    {
      "cell_type": "markdown",
      "metadata": {
        "id": "8GpOJk78pFhL"
      },
      "source": [
        "3) Escrever um programa para exibir os números de 1 a 100 em ordem inversa."
      ]
    },
    {
      "cell_type": "code",
      "metadata": {
        "colab": {
          "base_uri": "https://localhost:8080/"
        },
        "id": "LdnUEYhZpDHt",
        "outputId": "516864ec-c061-486a-f1db-591cbe304768"
      },
      "source": [
        "num = 100\n",
        "while num >= 1:\n",
        "  print(num)\n",
        "  num -= 1"
      ],
      "execution_count": null,
      "outputs": [
        {
          "output_type": "stream",
          "name": "stdout",
          "text": [
            "100\n",
            "99\n",
            "98\n",
            "97\n",
            "96\n",
            "95\n",
            "94\n",
            "93\n",
            "92\n",
            "91\n",
            "90\n",
            "89\n",
            "88\n",
            "87\n",
            "86\n",
            "85\n",
            "84\n",
            "83\n",
            "82\n",
            "81\n",
            "80\n",
            "79\n",
            "78\n",
            "77\n",
            "76\n",
            "75\n",
            "74\n",
            "73\n",
            "72\n",
            "71\n",
            "70\n",
            "69\n",
            "68\n",
            "67\n",
            "66\n",
            "65\n",
            "64\n",
            "63\n",
            "62\n",
            "61\n",
            "60\n",
            "59\n",
            "58\n",
            "57\n",
            "56\n",
            "55\n",
            "54\n",
            "53\n",
            "52\n",
            "51\n",
            "50\n",
            "49\n",
            "48\n",
            "47\n",
            "46\n",
            "45\n",
            "44\n",
            "43\n",
            "42\n",
            "41\n",
            "40\n",
            "39\n",
            "38\n",
            "37\n",
            "36\n",
            "35\n",
            "34\n",
            "33\n",
            "32\n",
            "31\n",
            "30\n",
            "29\n",
            "28\n",
            "27\n",
            "26\n",
            "25\n",
            "24\n",
            "23\n",
            "22\n",
            "21\n",
            "20\n",
            "19\n",
            "18\n",
            "17\n",
            "16\n",
            "15\n",
            "14\n",
            "13\n",
            "12\n",
            "11\n",
            "10\n",
            "9\n",
            "8\n",
            "7\n",
            "6\n",
            "5\n",
            "4\n",
            "3\n",
            "2\n",
            "1\n"
          ]
        }
      ]
    },
    {
      "cell_type": "markdown",
      "metadata": {
        "id": "rFWzT187pShZ"
      },
      "source": [
        "4) Fazer um programa para encontrar todos os números pares entre 1 e 100."
      ]
    },
    {
      "cell_type": "code",
      "metadata": {
        "colab": {
          "base_uri": "https://localhost:8080/"
        },
        "id": "kZFJrqPMpQLu",
        "outputId": "82177ef9-086b-402b-d697-625ac5684e77"
      },
      "source": [
        "num = 1\n",
        "while num <= 100:\n",
        "  if num % 2 == 0:\n",
        "    print(num)\n",
        "  num += 1"
      ],
      "execution_count": null,
      "outputs": [
        {
          "output_type": "stream",
          "name": "stdout",
          "text": [
            "2\n",
            "4\n",
            "6\n",
            "8\n",
            "10\n",
            "12\n",
            "14\n",
            "16\n",
            "18\n",
            "20\n",
            "22\n",
            "24\n",
            "26\n",
            "28\n",
            "30\n",
            "32\n",
            "34\n",
            "36\n",
            "38\n",
            "40\n",
            "42\n",
            "44\n",
            "46\n",
            "48\n",
            "50\n",
            "52\n",
            "54\n",
            "56\n",
            "58\n",
            "60\n",
            "62\n",
            "64\n",
            "66\n",
            "68\n",
            "70\n",
            "72\n",
            "74\n",
            "76\n",
            "78\n",
            "80\n",
            "82\n",
            "84\n",
            "86\n",
            "88\n",
            "90\n",
            "92\n",
            "94\n",
            "96\n",
            "98\n",
            "100\n"
          ]
        }
      ]
    },
    {
      "cell_type": "markdown",
      "metadata": {
        "id": "lsELIyr6ps9y"
      },
      "source": [
        "5) Fazer um programa para encontrar todos os múltiplos de 3 de 1 a 50."
      ]
    },
    {
      "cell_type": "code",
      "metadata": {
        "colab": {
          "base_uri": "https://localhost:8080/"
        },
        "id": "emM9YZEIpqbv",
        "outputId": "1145c784-fd79-4563-e5d9-f44643a0289d"
      },
      "source": [
        "num = 1\n",
        "\n",
        "while num <= 50:\n",
        "  if num % 3 == 0:\n",
        "    print(num)\n",
        "  num += 1"
      ],
      "execution_count": null,
      "outputs": [
        {
          "output_type": "stream",
          "name": "stdout",
          "text": [
            "3\n",
            "6\n",
            "9\n",
            "12\n",
            "15\n",
            "18\n",
            "21\n",
            "24\n",
            "27\n",
            "30\n",
            "33\n",
            "36\n",
            "39\n",
            "42\n",
            "45\n",
            "48\n"
          ]
        }
      ]
    },
    {
      "cell_type": "markdown",
      "metadata": {
        "id": "JMYIHvyup8-j"
      },
      "source": [
        "6) Ler um valor inteiro (aceitar somente valores entre 1 e 10) e escrever a tabuada de 1 a 10 do valor lido.\n"
      ]
    },
    {
      "cell_type": "code",
      "metadata": {
        "colab": {
          "base_uri": "https://localhost:8080/"
        },
        "id": "ypoFMYAnp608",
        "outputId": "2cc63564-595f-46c2-ee76-722cb7a71858"
      },
      "source": [
        "n = int(input('Digite o número da tabuada que gostaria de conferir: '))\n",
        "if n >= 1 and n <= 10:\n",
        "  cont = 1\n",
        "  while cont < 10:\n",
        "    print(f'{n} x {cont} = {n*cont}')\n",
        "    cont += 1\n",
        "else:\n",
        "  print('Digite um número entre 1 e 10')"
      ],
      "execution_count": null,
      "outputs": [
        {
          "output_type": "stream",
          "name": "stdout",
          "text": [
            "Digite o número da tabuada que gostaria de conferir: 6\n",
            "6 x 1 = 6\n",
            "6 x 2 = 12\n",
            "6 x 3 = 18\n",
            "6 x 4 = 24\n",
            "6 x 5 = 30\n",
            "6 x 6 = 36\n",
            "6 x 7 = 42\n",
            "6 x 8 = 48\n",
            "6 x 9 = 54\n"
          ]
        }
      ]
    },
    {
      "cell_type": "code",
      "metadata": {
        "colab": {
          "base_uri": "https://localhost:8080/"
        },
        "id": "ZnDwf35JoG7K",
        "outputId": "425b4a00-541d-4cd7-e548-81b66fb95b7b"
      },
      "source": [
        "n = int(input('Digite o número da tabuada que gostaria de conferir: '))\n",
        "while n < 1 or n > 10:\n",
        "  n = int(input('Digite o número da tabuada que gostaria de conferir: '))\n",
        "cont = 1\n",
        "while cont <= 10:\n",
        "  print(f'{n} x {cont} = {n*cont}')\n",
        "  cont += 1\n"
      ],
      "execution_count": null,
      "outputs": [
        {
          "output_type": "stream",
          "name": "stdout",
          "text": [
            "Digite o número da tabuada que gostaria de conferir: 10\n",
            "10 x 1 = 10\n",
            "10 x 2 = 20\n",
            "10 x 3 = 30\n",
            "10 x 4 = 40\n",
            "10 x 5 = 50\n",
            "10 x 6 = 60\n",
            "10 x 7 = 70\n",
            "10 x 8 = 80\n",
            "10 x 9 = 90\n",
            "10 x 10 = 100\n"
          ]
        }
      ]
    },
    {
      "cell_type": "markdown",
      "metadata": {
        "id": "0wTbua04wA32"
      },
      "source": [
        "7) Faça um programa que leia 5 idades e mostre na tela a média das idades lidas."
      ]
    },
    {
      "cell_type": "code",
      "metadata": {
        "colab": {
          "base_uri": "https://localhost:8080/"
        },
        "id": "pADLXUUcrkYY",
        "outputId": "af6eaac5-0647-4d92-8700-6a1009986810"
      },
      "source": [
        "n = 0\n",
        "cont = 1\n",
        "total = 0\n",
        "while cont <= 5:\n",
        "  n = int(input(f'Digite a {cont}ª idade: '))\n",
        "  while n <= 0 or n > 120:\n",
        "    n = int(input(f'Idade Invalida! Digite a {cont}ª idade entre 1 e 120: '))\n",
        "  total += n\n",
        "  cont += 1\n",
        "\n",
        "print(f'A média entre as 5 idades é de {total / 5:.0f}')"
      ],
      "execution_count": null,
      "outputs": [
        {
          "output_type": "stream",
          "name": "stdout",
          "text": [
            "Digite a 1ª idade: 5\n",
            "Digite a 2ª idade: -8\n",
            "Idade Invalida! Digite a 2ª idade entre 1 e 120: 8\n",
            "Digite a 3ª idade: 20\n",
            "Digite a 4ª idade: 28\n",
            "Digite a 5ª idade: 123\n",
            "Idade Invalida! Digite a 5ª idade entre 1 e 120: 100\n",
            "A média entre as 5 idades é de 32\n"
          ]
        }
      ]
    },
    {
      "cell_type": "markdown",
      "metadata": {
        "id": "9I8MMXxJ-kH_"
      },
      "source": [
        "8) Ler 10 números e informar na tela quantos números pares foram digitados e quantos números ímpares foram digitados."
      ]
    },
    {
      "cell_type": "code",
      "metadata": {
        "colab": {
          "base_uri": "https://localhost:8080/"
        },
        "id": "NTnPRasHw03E",
        "outputId": "2c38be63-6669-42dc-eea9-3122c56e4e62"
      },
      "source": [
        "cont_t = 0\n",
        "cont_p = 0\n",
        "cont_i = 0\n",
        "\n",
        "while cont_t < 10:\n",
        "  num = int(input(f'Digite o {cont_t + 1}º número: '))\n",
        "  if num % 2 == 0:\n",
        "    cont_p += 1\n",
        "  else:\n",
        "    cont_i += 1\n",
        "  cont_t += 1\n",
        "\n",
        "print(f'Você digitou {cont_p} números pares e {cont_i} impares')\n"
      ],
      "execution_count": null,
      "outputs": [
        {
          "output_type": "stream",
          "name": "stdout",
          "text": [
            "Digite o 1º número: 2\n",
            "Digite o 2º número: 4\n",
            "Digite o 3º número: 6\n",
            "Digite o 4º número: 8\n",
            "Digite o 5º número: 10\n",
            "Digite o 6º número: 12\n",
            "Digite o 7º número: 14\n",
            "Digite o 8º número: 16\n",
            "Digite o 9º número: 18\n",
            "Digite o 10º número: 20\n",
            "Você digitou 10 números pares e 0 impares\n"
          ]
        }
      ]
    },
    {
      "cell_type": "markdown",
      "metadata": {
        "id": "WSEVQ9OSAeQR"
      },
      "source": [
        "9) Faça um programa que leia 3 notas (de 0 a 10) e informe na tela a média das notas lidas."
      ]
    },
    {
      "cell_type": "code",
      "metadata": {
        "colab": {
          "base_uri": "https://localhost:8080/"
        },
        "id": "UegjkwKw_8gr",
        "outputId": "6c4948d5-8460-40a4-8867-01765f5c5dd5"
      },
      "source": [
        "cont = 0\n",
        "snota = 0\n",
        "while cont < 3:\n",
        "  nota = float(input(f'Digite a {cont + 1}ª nota: '))\n",
        "  if nota >= 0 and nota <= 10:\n",
        "    snota += nota\n",
        "    cont += 1\n",
        "    print(f'{cont}ª nota inseria com sucesso!')\n",
        "  else:\n",
        "    print('Insira uma nota entre 0 e 10')\n",
        "print(f'A média das 3 notas é igual a {snota / 3:.2f}')"
      ],
      "execution_count": null,
      "outputs": [
        {
          "output_type": "stream",
          "name": "stdout",
          "text": [
            "Digite a 1ª nota: 9\n",
            "1ª nota inseria com sucesso!\n",
            "Digite a 2ª nota: -2\n",
            "Insira uma nota entre 0 e 10\n",
            "Digite a 2ª nota: 98\n",
            "Insira uma nota entre 0 e 10\n",
            "Digite a 2ª nota: 8.5\n",
            "2ª nota inseria com sucesso!\n",
            "Digite a 3ª nota: 7.5\n",
            "3ª nota inseria com sucesso!\n",
            "A média das 3 notas é igual a 8.33\n"
          ]
        }
      ]
    },
    {
      "cell_type": "markdown",
      "metadata": {
        "id": "X27OuvheEsao"
      },
      "source": [
        "10) Foi feita uma pesquisa entre os habitantes de uma região. Foram coletados os dados de idade,sexo (M/F) e salário. Faça um programa que calcule e mostre:\n",
        "\n",
        "a) A média dos salários do grupo;\n",
        "\n",
        "b) A maior e a menor idade do grupo;\n",
        "\n",
        "c) A quantidade de mulheres na região;\n",
        "\n",
        "d) A idade e o sexo da pessoa que possui o menor salário;\n",
        "\n",
        "Finalize a entrada de dados ao ser digitada uma idade negativa."
      ]
    },
    {
      "cell_type": "code",
      "metadata": {
        "colab": {
          "base_uri": "https://localhost:8080/"
        },
        "id": "vHGs_9NSELvj",
        "outputId": "b9de2318-8c65-4dd7-f6a7-7015a4a41cda"
      },
      "source": [
        "idade = 0\n",
        "cont = 0\n",
        "somasalario = 0\n",
        "cont_m = 0\n",
        "while idade >= 0:\n",
        "  sexo = str(input('Insira o sexo [M/F]: ')).strip().upper()[0]\n",
        "  if sexo == 'M':\n",
        "    print('Masculino')\n",
        "  elif sexo == 'F':\n",
        "    print('Feminino')\n",
        "  else:\n",
        "    print('Sexo Invalido')\n",
        "  while sexo != 'M' and sexo != 'F':\n",
        "    sexo = str(input('Insira o sexo [M/F]: ')).strip().upper()[0]\n",
        "    if sexo == 'M':\n",
        "      print('Masculino')\n",
        "    elif sexo == 'F':\n",
        "      print('Feminino')\n",
        "    else:\n",
        "      print('Sexo Invalido')\n",
        "  idade = int(input('Insira a idade: '))\n",
        "  if idade < 0:\n",
        "    break\n",
        "  salario = float(input('Digite o salário: R$'))\n",
        "  if cont == 0:\n",
        "    maioridade = idade\n",
        "    menoridade = idade\n",
        "    menorsalario = salario\n",
        "    idademenorsalario = idade\n",
        "    sexomenorsalario = sexo\n",
        "  if idade > maioridade:\n",
        "    maioridade = idade\n",
        "  if idade < menoridade:\n",
        "    menoridade = idade\n",
        "  if sexo == 'F':\n",
        "    cont_m += 1\n",
        "  if salario < menorsalario:\n",
        "    menorsalario = salario\n",
        "    idademenorsalario = idade\n",
        "    sexomenorsalario = sexo\n",
        "  somasalario += salario\n",
        "  cont += 1\n",
        "\n",
        "print(f'A média dos salários é {somasalario / cont:.2f}')\n",
        "print(f'A maior idade do grupo é de {maioridade} anos e a menor é de {menoridade} anos')\n",
        "print(f'A quantidade de mulhers cadastradas foi de {cont_m} mulheres')\n",
        "print(f'A pessoa com o menor salário tem {idademenorsalario} anos e é do sexo \"{sexomenorsalario}\"')\n",
        "print(f'Foram registradas {cont} pessoas')"
      ],
      "execution_count": null,
      "outputs": [
        {
          "output_type": "stream",
          "name": "stdout",
          "text": [
            "Insira o sexo [M/F]: fe\n",
            "Feminino\n",
            "Insira a idade: 30\n",
            "Digite o salário: R$3000\n",
            "Insira o sexo [M/F]: mas\n",
            "Masculino\n",
            "Insira a idade: 25\n",
            "Digite o salário: R$2500\n",
            "Insira o sexo [M/F]: fe\n",
            "Feminino\n",
            "Insira a idade: 20\n",
            "Digite o salário: R$2000\n",
            "Insira o sexo [M/F]: fe\n",
            "Feminino\n",
            "Insira a idade: -5\n",
            "A média dos salários é 2500.00\n",
            "A maior idade do grupo é de 30 anos e a menor é de 20 anos\n",
            "A quantidade de mulhers cadastradas foi de 2 mulheres\n",
            "A pessoa com o menor salário tem 20 anos e é do sexo \"F\"\n",
            "Foram registradas 3 pessoas\n"
          ]
        }
      ]
    },
    {
      "cell_type": "code",
      "metadata": {
        "id": "LvFHnZAEG1mh"
      },
      "source": [
        ""
      ],
      "execution_count": null,
      "outputs": []
    }
  ]
}