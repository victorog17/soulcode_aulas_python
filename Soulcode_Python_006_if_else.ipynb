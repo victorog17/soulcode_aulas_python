{
  "nbformat": 4,
  "nbformat_minor": 0,
  "metadata": {
    "colab": {
      "name": "Soulcode_Python_006_if_else.ipynb",
      "provenance": [],
      "collapsed_sections": [],
      "authorship_tag": "ABX9TyNS+6XYA5yqS8sIf2vsBGcg",
      "include_colab_link": true
    },
    "kernelspec": {
      "name": "python3",
      "display_name": "Python 3"
    },
    "language_info": {
      "name": "python"
    }
  },
  "cells": [
    {
      "cell_type": "markdown",
      "metadata": {
        "id": "view-in-github",
        "colab_type": "text"
      },
      "source": [
        "<a href=\"https://colab.research.google.com/github/victorog17/soulcode_aulas_python/blob/main/Soulcode_Python_006_if_else.ipynb\" target=\"_parent\"><img src=\"https://colab.research.google.com/assets/colab-badge.svg\" alt=\"Open In Colab\"/></a>"
      ]
    },
    {
      "cell_type": "markdown",
      "metadata": {
        "id": "RMLGsiD3TcX0"
      },
      "source": [
        "Calcule quantos números pares existem entre 50 e 220.\n",
        "\n",
        "Printando somente o valor final da quantidade de números pares.\n",
        "\n"
      ]
    },
    {
      "cell_type": "code",
      "metadata": {
        "colab": {
          "base_uri": "https://localhost:8080/"
        },
        "id": "w5pF0v3NTOmi",
        "outputId": "8ade62dc-ef38-409a-b686-00aa9ec0bb78"
      },
      "source": [
        "cont = 0\n",
        "num = 50\n",
        "\n",
        "while num <= 220:\n",
        "  if (num % 2 == 0):\n",
        "    cont += 1\n",
        "  num += 1\n",
        "\n",
        "print(f'Existem {cont} números pares entre 50 e 220!')"
      ],
      "execution_count": null,
      "outputs": [
        {
          "output_type": "stream",
          "name": "stdout",
          "text": [
            "Existem 86 números pares entre 50 e 220\n"
          ]
        }
      ]
    },
    {
      "cell_type": "markdown",
      "metadata": {
        "id": "_GyBkDBKuPrd"
      },
      "source": [
        "Faça um algoritmo que leia 10 números entre 100 e 500 e mostre na tela o maior e o menor número lido."
      ]
    },
    {
      "cell_type": "code",
      "metadata": {
        "colab": {
          "base_uri": "https://localhost:8080/"
        },
        "id": "nEw1Pg3DUE5F",
        "outputId": "8fb0520b-ec57-4841-f4d2-ac1805efe28c"
      },
      "source": [
        "cont = 0\n",
        "\n",
        "while cont < 10:\n",
        "  num = int(input('Digite um número entre 100 e 500: '))\n",
        "  if num >= 100 and num <= 500:\n",
        "    if cont == 0:\n",
        "      maximo = num\n",
        "      minimo = num\n",
        "    else:\n",
        "      if num > maximo:\n",
        "        maximo = num\n",
        "      elif num < minimo:\n",
        "        minimo = num\n",
        "    cont += 1\n",
        "    print(f'{cont}º número aceito')\n",
        "  else:\n",
        "    print('Insira um valor valido')\n",
        "\n",
        "print(f'O maior número é {maximo} e o menor número é {minimo}')\n",
        "\n",
        "\n"
      ],
      "execution_count": null,
      "outputs": [
        {
          "output_type": "stream",
          "name": "stdout",
          "text": [
            "Digite um número entre 100 e 500: 90\n",
            "Insira um valor valido\n",
            "Digite um número entre 100 e 500: 150\n",
            "1º número aceito\n",
            "Digite um número entre 100 e 500: 85\n",
            "Insira um valor valido\n",
            "Digite um número entre 100 e 500: 151\n",
            "2º número aceito\n",
            "Digite um número entre 100 e 500: 152\n",
            "3º número aceito\n",
            "Digite um número entre 100 e 500: 153\n",
            "4º número aceito\n",
            "Digite um número entre 100 e 500: 154\n",
            "5º número aceito\n",
            "Digite um número entre 100 e 500: 155\n",
            "6º número aceito\n",
            "Digite um número entre 100 e 500: 156\n",
            "7º número aceito\n",
            "Digite um número entre 100 e 500: 157\n",
            "8º número aceito\n",
            "Digite um número entre 100 e 500: 158\n",
            "9º número aceito\n",
            "Digite um número entre 100 e 500: 159\n",
            "10º número aceito\n",
            "O maior número é 159 e o menor número é 150\n"
          ]
        }
      ]
    },
    {
      "cell_type": "code",
      "metadata": {
        "colab": {
          "base_uri": "https://localhost:8080/"
        },
        "id": "TsrWl9PC1lHZ",
        "outputId": "f6b6f559-8f6d-4dc8-fdf2-40303db50a47"
      },
      "source": [
        "cont = 0\n",
        "\n",
        "while cont < 10:\n",
        "  num = 0\n",
        "  while num < 100 or num > 500:\n",
        "    num = int(input('Digite um número entre 100 e 500: '))\n",
        "  if cont == 0:\n",
        "    maximo = num\n",
        "    minimo = num\n",
        "  else:\n",
        "    if num > maximo:\n",
        "      maximo = num\n",
        "    if num < minimo:\n",
        "      minimo = num\n",
        "  cont += 1\n",
        "  print(f'{cont}º número aceito')\n",
        "\n",
        "print(f'O maior número é {maximo} e o menor número é {minimo}')"
      ],
      "execution_count": null,
      "outputs": [
        {
          "output_type": "stream",
          "name": "stdout",
          "text": [
            "Digite um número entre 100 e 500: 101\n",
            "1º número aceito\n",
            "Digite um número entre 100 e 500: 102\n",
            "2º número aceito\n",
            "Digite um número entre 100 e 500: 103\n",
            "3º número aceito\n",
            "Digite um número entre 100 e 500: 104\n",
            "4º número aceito\n",
            "Digite um número entre 100 e 500: 105\n",
            "5º número aceito\n",
            "Digite um número entre 100 e 500: 106\n",
            "6º número aceito\n",
            "Digite um número entre 100 e 500: 107\n",
            "7º número aceito\n",
            "Digite um número entre 100 e 500: 108\n",
            "8º número aceito\n",
            "Digite um número entre 100 e 500: 109\n",
            "9º número aceito\n",
            "Digite um número entre 100 e 500: 110\n",
            "10º número aceito\n",
            "O maior número é 110 e o menor número é 101\n"
          ]
        }
      ]
    },
    {
      "cell_type": "markdown",
      "metadata": {
        "id": "OdHXbbh0G9zh"
      },
      "source": [
        "Faça um programa que apresente na tela os 10 primeiros números negativos em ordem inversa."
      ]
    },
    {
      "cell_type": "code",
      "metadata": {
        "colab": {
          "base_uri": "https://localhost:8080/"
        },
        "id": "1J6ZDRoCDRB5",
        "outputId": "8c7ed2ea-e6c3-44ad-f4bc-5bd552596aa1"
      },
      "source": [
        "num = -10\n",
        "\n",
        "while num < 0:\n",
        "  print(num)\n",
        "  num += 1"
      ],
      "execution_count": null,
      "outputs": [
        {
          "output_type": "stream",
          "name": "stdout",
          "text": [
            "-10\n",
            "-9\n",
            "-8\n",
            "-7\n",
            "-6\n",
            "-5\n",
            "-4\n",
            "-3\n",
            "-2\n",
            "-1\n"
          ]
        }
      ]
    }
  ]
}