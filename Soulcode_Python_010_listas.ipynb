{
  "nbformat": 4,
  "nbformat_minor": 0,
  "metadata": {
    "colab": {
      "name": "Soulcode_Python_010_listas.ipynb",
      "provenance": [],
      "collapsed_sections": [],
      "authorship_tag": "ABX9TyPbZw4Im9ULc4TFs1H1zgwL",
      "include_colab_link": true
    },
    "kernelspec": {
      "name": "python3",
      "display_name": "Python 3"
    },
    "language_info": {
      "name": "python"
    }
  },
  "cells": [
    {
      "cell_type": "markdown",
      "metadata": {
        "id": "view-in-github",
        "colab_type": "text"
      },
      "source": [
        "<a href=\"https://colab.research.google.com/github/victorog17/soulcode_aulas_python/blob/main/Soulcode_Python_010_listas.ipynb\" target=\"_parent\"><img src=\"https://colab.research.google.com/assets/colab-badge.svg\" alt=\"Open In Colab\"/></a>"
      ]
    },
    {
      "cell_type": "markdown",
      "metadata": {
        "id": "hxYCFLdHhUrW"
      },
      "source": [
        "1) Faça um Programa que leia uma lista de 5 números inteiros e mostre-os."
      ]
    },
    {
      "cell_type": "code",
      "metadata": {
        "colab": {
          "base_uri": "https://localhost:8080/"
        },
        "id": "2XmmnApYhN5b",
        "outputId": "6aa98ecd-9b54-4d2d-c301-e3c77b24a907"
      },
      "source": [
        "lista = []\n",
        "cont = 1\n",
        "\n",
        "for i in range(5):\n",
        "  n = int(input(f'Insira o {cont}º valor: '))\n",
        "  lista.append(n)\n",
        "  cont += 1\n",
        "\n",
        "print(lista)"
      ],
      "execution_count": null,
      "outputs": [
        {
          "output_type": "stream",
          "name": "stdout",
          "text": [
            "Insira o 1º valor: 5\n",
            "Insira o 2º valor: 8\n",
            "Insira o 3º valor: 9\n",
            "Insira o 4º valor: 4\n",
            "Insira o 5º valor: 7\n",
            "[5, 8, 9, 4, 7]\n"
          ]
        }
      ]
    },
    {
      "cell_type": "markdown",
      "metadata": {
        "id": "RqlfWfG2hYmV"
      },
      "source": [
        "2) Faça um Programa que leia uma lista de 10 números reais e mostre-os na ordem inversa."
      ]
    },
    {
      "cell_type": "code",
      "metadata": {
        "colab": {
          "base_uri": "https://localhost:8080/"
        },
        "id": "m8oFPuyyhco_",
        "outputId": "6c5451d3-4cdf-46fc-fb4b-c27a8c2bb531"
      },
      "source": [
        "lista = []\n",
        "cont = 1\n",
        "\n",
        "for i in range(10):\n",
        "  n = float(input(f'Insira o {cont}º valor: '))\n",
        "  lista.append(n)\n",
        "  cont += 1\n",
        "\n",
        "lista.reverse()\n",
        "print(lista)"
      ],
      "execution_count": null,
      "outputs": [
        {
          "output_type": "stream",
          "name": "stdout",
          "text": [
            "Insira o 1º valor: 1\n",
            "Insira o 2º valor: 2\n",
            "Insira o 3º valor: 3\n",
            "Insira o 4º valor: 4\n",
            "Insira o 5º valor: 5\n",
            "Insira o 6º valor: 6\n",
            "Insira o 7º valor: 7\n",
            "Insira o 8º valor: 8\n",
            "Insira o 9º valor: 9\n",
            "Insira o 10º valor: 10\n",
            "[10.0, 9.0, 8.0, 7.0, 6.0, 5.0, 4.0, 3.0, 2.0, 1.0]\n"
          ]
        }
      ]
    },
    {
      "cell_type": "markdown",
      "metadata": {
        "id": "z6euvkiUhdJa"
      },
      "source": [
        "3) Faça um Programa que leia 4 notas de alunos e armazene-as dentro de uma lista. Em seguida mostre as notas e a média das notas na tela."
      ]
    },
    {
      "cell_type": "code",
      "metadata": {
        "colab": {
          "base_uri": "https://localhost:8080/"
        },
        "id": "yyiFm-K9heit",
        "outputId": "3442bc31-262d-49ba-8bab-b6e582552708"
      },
      "source": [
        "notas = []\n",
        "cont = 1\n",
        "somanota = 0\n",
        "\n",
        "for i in range(4):\n",
        "  n = float(input(f'Insira a nota do {cont}º aluno: '))\n",
        "  while n < 0 or n1 > 10:\n",
        "    n = float(input(f'Nota Invalida. Insira a nota do {cont}º aluno: '))\n",
        "  notas.append(n)\n",
        "  somanota += n\n",
        "  cont += 1\n",
        "\n",
        "ncont = 1\n",
        "for i in notas:\n",
        "  print(f'A nota do {ncont}º aluno foi {i:.2f}')\n",
        "  ncont += 1\n",
        "\n",
        "media = somanota / 4\n",
        "\n",
        "print(f'A média dos alunos foi {media:.2f}')"
      ],
      "execution_count": null,
      "outputs": [
        {
          "output_type": "stream",
          "name": "stdout",
          "text": [
            "Insira a nota do 1º aluno: 5\n",
            "Insira a nota do 2º aluno: 6\n",
            "Insira a nota do 3º aluno: 7\n",
            "Insira a nota do 4º aluno: 8\n",
            "A nota do 1º aluno foi 5.00\n",
            "A nota do 2º aluno foi 6.00\n",
            "A nota do 3º aluno foi 7.00\n",
            "A nota do 4º aluno foi 8.00\n",
            "A média dos alunos foi 6.50\n"
          ]
        }
      ]
    },
    {
      "cell_type": "markdown",
      "metadata": {
        "id": "ow3esNEuhiBp"
      },
      "source": [
        "4) Faça um Programa que leia 20 números inteiros e armazene-os numa lista. Em seguida, crie mais 2 listas, uma para armazenar os números pares e outra para armazenar os números impares. Ao final, Imprima as três listas."
      ]
    },
    {
      "cell_type": "code",
      "metadata": {
        "colab": {
          "base_uri": "https://localhost:8080/"
        },
        "id": "zCchdAzHhidZ",
        "outputId": "3aa9f0b4-b3cf-4550-bc8c-016d47c6ea60"
      },
      "source": [
        "numeros = []\n",
        "pares = []\n",
        "impares = []\n",
        "cont = 1\n",
        "\n",
        "for i in range(20):\n",
        "  n = int(input(f'Insira o {cont}º número: '))\n",
        "  numeros.append(n)\n",
        "  if n % 2 == 0:\n",
        "    pares.append(n)\n",
        "  else:\n",
        "    impares.append(n)\n",
        "  cont += 1\n",
        "\n",
        "print(numeros)\n",
        "print(pares)\n",
        "print(impares)"
      ],
      "execution_count": null,
      "outputs": [
        {
          "output_type": "stream",
          "name": "stdout",
          "text": [
            "Insira o 1º número: 1\n",
            "Insira o 2º número: 2\n",
            "Insira o 3º número: 3\n",
            "Insira o 4º número: 4\n",
            "Insira o 5º número: 5\n",
            "Insira o 6º número: 6\n",
            "Insira o 7º número: 7\n",
            "Insira o 8º número: 8\n",
            "Insira o 9º número: 9\n",
            "Insira o 10º número: 10\n",
            "Insira o 11º número: 11\n",
            "Insira o 12º número: 12\n",
            "Insira o 13º número: 13\n",
            "Insira o 14º número: 14\n",
            "Insira o 15º número: 15\n",
            "Insira o 16º número: 16\n",
            "Insira o 17º número: 17\n",
            "Insira o 18º número: 18\n",
            "Insira o 19º número: 19\n",
            "Insira o 20º número: 20\n",
            "[1, 2, 3, 4, 5, 6, 7, 8, 9, 10, 11, 12, 13, 14, 15, 16, 17, 18, 19, 20]\n",
            "[2, 4, 6, 8, 10, 12, 14, 16, 18, 20]\n",
            "[1, 3, 5, 7, 9, 11, 13, 15, 17, 19]\n"
          ]
        }
      ]
    },
    {
      "cell_type": "markdown",
      "metadata": {
        "id": "d2jKW58LyJqn"
      },
      "source": [
        "4) Faça um Programa que leia 20 números inteiros e armazene-os numa lista. Em seguida, crie mais 2 listas, uma para armazenar os números pares e outra para armazenar os números impares. Ao final, Imprima as três listas."
      ]
    },
    {
      "cell_type": "code",
      "metadata": {
        "colab": {
          "base_uri": "https://localhost:8080/"
        },
        "id": "UH1aK9VgX_Hg",
        "outputId": "50e49273-799c-440a-8bc8-d8119d188ac0"
      },
      "source": [
        "numeros = []\n",
        "pares = []\n",
        "impares = []\n",
        "cont = 1\n",
        "\n",
        "for i in range(5):\n",
        "  n = int(input(f'Insira o {cont}º número: '))\n",
        "  numeros.append(n)\n",
        "  cont += 1\n",
        "\n",
        "for i in numeros: \n",
        "  if i % 2 == 0:\n",
        "    pares.append(i)\n",
        "  else:\n",
        "    impares.append(i)\n",
        "  \n",
        "print(numeros)\n",
        "print(pares)\n",
        "print(impares)"
      ],
      "execution_count": null,
      "outputs": [
        {
          "output_type": "stream",
          "name": "stdout",
          "text": [
            "Insira o 1º número: 5\n",
            "Insira o 2º número: 7\n",
            "Insira o 3º número: 22\n",
            "Insira o 4º número: 90\n",
            "Insira o 5º número: 23\n",
            "[5, 7, 22, 90, 23]\n",
            "[22, 90]\n",
            "[5, 7, 23]\n"
          ]
        }
      ]
    },
    {
      "cell_type": "markdown",
      "metadata": {
        "id": "UKoRKDDchjUf"
      },
      "source": [
        "5) Faça um Programa que peça as quatro notas de 10 alunos junto com o seu nome.  Calcule e armazene numa lista a média de cada aluno, bem como em outra lista armazene o nome do aluno. Ao final imprima o número de alunos com média maior ou igual a 7.0 junto com o seu nome."
      ]
    },
    {
      "cell_type": "code",
      "metadata": {
        "colab": {
          "base_uri": "https://localhost:8080/"
        },
        "id": "rs5DOmtghk5Y",
        "outputId": "8faac2b0-7614-4a13-80d6-e30817b545f1"
      },
      "source": [
        "media = []\n",
        "nome = []\n",
        "cont_aluno = 1\n",
        "\n",
        "for i in range(10):\n",
        "  name = str(input(f'Insira o nome do {cont_aluno}º aluno: ')).title()\n",
        "  n1 = float(input(f'Insira a 1ª nota do {cont_aluno}º aluno: '))\n",
        "  while n1 < 0 or n1 > 10:\n",
        "    n1 = float(input(f'Nota Invalida. Insira a 1ª nota do {cont_aluno}º aluno: '))\n",
        "  n2 = float(input(f'Insira a 2ª nota do {cont_aluno}º aluno: '))\n",
        "  while n2 < 0 or n1 > 10:\n",
        "    n2 = float(input(f'Nota Invalida. Insira a 2ª nota do {cont_aluno}º aluno: '))\n",
        "  n3 = float(input(f'Insira a 3ª nota do {cont_aluno}º aluno: '))\n",
        "  while n3 < 0 or n1 > 10:\n",
        "    n3 = float(input(f'Nota Invalida. Insira a 3ª nota do {cont_aluno}º aluno: '))\n",
        "  n4 = float(input(f'Insira a 4ª nota do {cont_aluno}º aluno: '))\n",
        "  while n4 < 0 or n1 > 10:  \n",
        "    n4 = float(input(f'Nota Invalida. Insira a 4ª nota do {cont_aluno}º aluno: '))\n",
        "  mean = (n1 + n2 + n3 + n4) / 4\n",
        "  nome.append(name)\n",
        "  media.append(mean)\n",
        "  cont_aluno += 1\n",
        "\n",
        "print('Os alunos com média igual ou maior que 7.0 são:')\n",
        "for i, v in zip(nome, media):\n",
        "  if v >= 7:\n",
        "    print(f'{i}: {v:.2f}')"
      ],
      "execution_count": null,
      "outputs": [
        {
          "output_type": "stream",
          "name": "stdout",
          "text": [
            "Insira o nome do 1º aluno: victor\n",
            "Insira a 1ª nota do 1º aluno: 10\n",
            "Insira a 2ª nota do 1º aluno: 10\n",
            "Insira a 3ª nota do 1º aluno: 10\n",
            "Insira a 4ª nota do 1º aluno: 8\n",
            "Insira o nome do 2º aluno: amanda\n",
            "Insira a 1ª nota do 2º aluno: 9\n",
            "Insira a 2ª nota do 2º aluno: 7\n",
            "Insira a 3ª nota do 2º aluno: 5\n",
            "Insira a 4ª nota do 2º aluno: 10\n",
            "Insira o nome do 3º aluno: douglas\n",
            "Insira a 1ª nota do 3º aluno: 5\n",
            "Insira a 2ª nota do 3º aluno: 4\n",
            "Insira a 3ª nota do 3º aluno: 8\n",
            "Insira a 4ª nota do 3º aluno: 6\n",
            "Os alunos com média igual ou maior que 7.0 são:\n",
            "Victor: 9.50\n",
            "Amanda: 7.75\n"
          ]
        }
      ]
    },
    {
      "cell_type": "markdown",
      "metadata": {
        "id": "fiTqbrP118PG"
      },
      "source": [
        "5) Faça um Programa que peça as quatro notas de 10 alunos junto com o seu nome. Calcule e armazene numa lista a média de cada aluno, bem como em outra lista armazene o nome do aluno. Ao final imprima o número de alunos com média maior ou igual a 7.0 junto com o seu nome."
      ]
    },
    {
      "cell_type": "code",
      "metadata": {
        "colab": {
          "base_uri": "https://localhost:8080/"
        },
        "id": "oXJkJJ2B1a51",
        "outputId": "ed7b2772-4bfc-4cb8-8352-3b559c15bea9"
      },
      "source": [
        "media = []\n",
        "nome = []\n",
        "cont_aluno = 1\n",
        "x = 3\n",
        "\n",
        "for i in range(x):\n",
        "  name = str(input(f'Insira o nome do {cont_aluno}º aluno: ')).title()\n",
        "  n1 = float(input(f'Insira a 1ª nota do {cont_aluno}º aluno: '))\n",
        "  while n1 < 0 or n1 > 10:\n",
        "    n1 = float(input(f'Nota Invalida. Insira a 1ª nota do {cont_aluno}º aluno: '))\n",
        "  n2 = float(input(f'Insira a 2ª nota do {cont_aluno}º aluno: '))\n",
        "  while n2 < 0 or n1 > 10:\n",
        "    n2 = float(input(f'Nota Invalida. Insira a 2ª nota do {cont_aluno}º aluno: '))\n",
        "  n3 = float(input(f'Insira a 3ª nota do {cont_aluno}º aluno: '))\n",
        "  while n3 < 0 or n1 > 10:\n",
        "    n3 = float(input(f'Nota Invalida. Insira a 3ª nota do {cont_aluno}º aluno: '))\n",
        "  n4 = float(input(f'Insira a 4ª nota do {cont_aluno}º aluno: '))\n",
        "  while n4 < 0 or n1 > 10:  \n",
        "    n4 = float(input(f'Nota Invalida. Insira a 4ª nota do {cont_aluno}º aluno: '))\n",
        "  mean = (n1 + n2 + n3 + n4) / 4\n",
        "  nome.append(name)\n",
        "  media.append(mean)\n",
        "  cont_aluno += 1\n",
        "\n",
        "print('Os alunos com média igual ou maior que 7.0 são:')\n",
        "for i in range(x):\n",
        "  if media[i] >= 7:\n",
        "    print(f'{nome[i]}: {media[i]:.2f}')"
      ],
      "execution_count": null,
      "outputs": [
        {
          "output_type": "stream",
          "name": "stdout",
          "text": [
            "Insira o nome do 1º aluno: abel\n",
            "Insira a 1ª nota do 1º aluno: 5\n",
            "Insira a 2ª nota do 1º aluno: 7\n",
            "Insira a 3ª nota do 1º aluno: 8\n",
            "Insira a 4ª nota do 1º aluno: 9\n",
            "Insira o nome do 2º aluno: amanda\n",
            "Insira a 1ª nota do 2º aluno: 8\n",
            "Insira a 2ª nota do 2º aluno: 9\n",
            "Insira a 3ª nota do 2º aluno: 10\n",
            "Insira a 4ª nota do 2º aluno: 5\n",
            "Insira o nome do 3º aluno: carlos\n",
            "Insira a 1ª nota do 3º aluno: 3\n",
            "Insira a 2ª nota do 3º aluno: 7\n",
            "Insira a 3ª nota do 3º aluno: 6\n",
            "Insira a 4ª nota do 3º aluno: 5\n",
            "Os alunos com média igual ou maior que 7.0 são:\n",
            "Abel: 7.25\n",
            "Amanda: 8.00\n"
          ]
        }
      ]
    },
    {
      "cell_type": "markdown",
      "metadata": {
        "id": "AyKwuNwuhlXR"
      },
      "source": [
        "6) Faça um Programa que leia uma lista de 5 números inteiros. Após, percorra a lista e calcule a soma e a multiplicação dos números.  Ao final, mostre os números lidos, a soma dos números e a multiplicação entre eles."
      ]
    },
    {
      "cell_type": "code",
      "metadata": {
        "colab": {
          "base_uri": "https://localhost:8080/"
        },
        "id": "jyGS2thThm7M",
        "outputId": "65577903-ff96-4145-d99f-e075a1e7d5ea"
      },
      "source": [
        "numeros = []\n",
        "cont = 1\n",
        "\n",
        "for i in range(5):\n",
        "  n = int(input(f'Insira o {cont}º número: '))\n",
        "  numeros.append(n)\n",
        "  cont += 1\n",
        "\n",
        "soma = 0\n",
        "mult = 1\n",
        "\n",
        "print('Os números inseridos foram:')\n",
        "for i in numeros:\n",
        "  soma += i\n",
        "  mult *= i\n",
        "  print(i, end=' ')\n",
        "\n",
        "print(f'\\nA soma entre eles é {soma}')\n",
        "print(f'A multiplicação entre eles é {mult}')"
      ],
      "execution_count": null,
      "outputs": [
        {
          "output_type": "stream",
          "name": "stdout",
          "text": [
            "Insira o 1º número: 2\n",
            "Insira o 2º número: 3\n",
            "Insira o 3º número: 4\n",
            "Insira o 4º número: 5\n",
            "Insira o 5º número: 6\n",
            "Os números inseridos foram:\n",
            "2 3 4 5 6 \n",
            "A soma entre eles é 20\n",
            "A multiplicação entre eles é 720\n"
          ]
        }
      ]
    },
    {
      "cell_type": "markdown",
      "metadata": {
        "id": "UsEVh0o4hnY6"
      },
      "source": [
        "7) Faça um Programa que leia uma lista A com 10 números inteiros, calcule e mostre a soma dos quadrados dos elementos da lista."
      ]
    },
    {
      "cell_type": "code",
      "metadata": {
        "colab": {
          "base_uri": "https://localhost:8080/"
        },
        "id": "qQjsASQsho6m",
        "outputId": "39b0fd45-5a75-4824-cb64-77837b7ae1e1"
      },
      "source": [
        "numeros = []\n",
        "cont = 1\n",
        "somaquad = 0\n",
        "\n",
        "for i in range(10):\n",
        "  n = int(input(f'Insira o {cont}º número: '))\n",
        "  numeros.append(n)\n",
        "  cont += 1\n",
        "\n",
        "for i in numeros:\n",
        "  s = i ** 2\n",
        "  somaquad += s\n",
        "\n",
        "print('Os números inseridos foram:')\n",
        "for i in numeros:\n",
        "  print(i, end=' ')\n",
        "\n",
        "print(f'\\nA soma dos quadrados é igual a {somaquad}')"
      ],
      "execution_count": null,
      "outputs": [
        {
          "output_type": "stream",
          "name": "stdout",
          "text": [
            "Insira o 1º número: 2\n",
            "Insira o 2º número: 3\n",
            "Insira o 3º número: 2\n",
            "Insira o 4º número: 3\n",
            "Insira o 5º número: 2\n",
            "Insira o 6º número: 3\n",
            "Insira o 7º número: 2\n",
            "Insira o 8º número: 3\n",
            "Insira o 9º número: 2\n",
            "Insira o 10º número: 3\n",
            "Os números inseridos foram:\n",
            "2 3 2 3 2 3 2 3 2 3 \n",
            "A soma dos quadrados é igual a 65\n"
          ]
        }
      ]
    },
    {
      "cell_type": "markdown",
      "metadata": {
        "id": "Ybb8_7wXhps5"
      },
      "source": [
        "8) Faça um programa que leia o nome, a idade e a altura de 10 alunos da SoulCode. Em seguida determine quantos alunos com mais de 13 anos possuem altura inferior à média de altura desses alunos."
      ]
    },
    {
      "cell_type": "code",
      "metadata": {
        "colab": {
          "base_uri": "https://localhost:8080/"
        },
        "id": "IUAmg8H5hrMy",
        "outputId": "20745c7b-5a1b-4fe9-8ca5-1c33f56998a4"
      },
      "source": [
        "nome = []\n",
        "idade = []\n",
        "altura = []\n",
        "cont = 0\n",
        "soma_altura = 0\n",
        "maistreze = 0\n",
        "\n",
        "for i in range(10):\n",
        "  name = str(input(f'Insira o nome do {cont + 1}º aluno: ')).title()\n",
        "  age = int(input(f'Insira a idade do {cont + 1}º aluno: '))\n",
        "  while age <= 0:\n",
        "    age = int(input(f'Idade Invalida. Insira a idade do {cont + 1}º aluno: '))\n",
        "  high = float(input(f'Insira a altura do {cont + 1}º aluno: '))\n",
        "  while high < 1:\n",
        "    high = float(input(f'Altura Invalida. Insira a altura do {cont + 1}º aluno: '))\n",
        "  nome.append(name)\n",
        "  idade.append(age)\n",
        "  altura.append(high)\n",
        "  cont += 1\n",
        "\n",
        "for i in altura:\n",
        "  soma_altura += i\n",
        "\n",
        "media_altura = soma_altura / cont\n",
        "\n",
        "print(f'\\nOs seguintes alunos maiores de 13 anos tem altura inferior a media da turma de {media_altura:.2f}m.')\n",
        "for i, v, r in zip(nome, idade, altura):\n",
        "  if v > 13:\n",
        "    if r < media_altura:\n",
        "      print(f'{i}: {r:.2f}m')\n",
        "      maistreze += 1\n",
        "\n",
        "print(f'{maistreze} alunos')"
      ],
      "execution_count": null,
      "outputs": [
        {
          "output_type": "stream",
          "name": "stdout",
          "text": [
            "Insira o nome do 1º aluno: abel\n",
            "Insira a idade do 1º aluno: 11\n",
            "Insira a altura do 1º aluno: 1.40\n",
            "Insira o nome do 2º aluno: bruno\n",
            "Insira a idade do 2º aluno: 15\n",
            "Insira a altura do 2º aluno: 1.70\n",
            "Insira o nome do 3º aluno: carol\n",
            "Insira a idade do 3º aluno: 15\n",
            "Insira a altura do 3º aluno: 1.60\n",
            "Insira o nome do 4º aluno: daniel\n",
            "Insira a idade do 4º aluno: 13\n",
            "Insira a altura do 4º aluno: 1.60\n",
            "Insira o nome do 5º aluno: edilson\n",
            "Insira a idade do 5º aluno: 14\n",
            "Insira a altura do 5º aluno: 1.80\n",
            "Os seguintes alunos maiores de 13 anos tem altura inferior a media da turma de 1.62m.\n",
            "carol: 1.6m\n",
            "daniel: 1.6m\n"
          ]
        }
      ]
    },
    {
      "cell_type": "markdown",
      "metadata": {
        "id": "R_c-FBs824ri"
      },
      "source": [
        "8) Faça um programa que leia o nome, a idade e a altura de 10 alunos da SoulCode. Em seguida determine quantos alunos com mais de 13 anos possuem altura inferior à média de altura desses alunos."
      ]
    },
    {
      "cell_type": "code",
      "metadata": {
        "colab": {
          "base_uri": "https://localhost:8080/"
        },
        "id": "gkI-Zt9u2GfL",
        "outputId": "926205be-037d-42b0-b8b1-2176ae7c4e93"
      },
      "source": [
        "nome = []\n",
        "idade = []\n",
        "altura = []\n",
        "cont = 0\n",
        "soma_altura = 0\n",
        "maistreze = 0\n",
        "x = 4\n",
        "\n",
        "for i in range(x):\n",
        "  name = str(input(f'Insira o nome do {cont + 1}º aluno: ')).title()\n",
        "  age = int(input(f'Insira a idade do {cont + 1}º aluno: '))\n",
        "  while age <= 0:\n",
        "    age = int(input(f'Idade Invalida. Insira a idade do {cont + 1}º aluno: '))\n",
        "  high = float(input(f'Insira a altura do {cont + 1}º aluno: '))\n",
        "  while high < 1:\n",
        "    high = float(input(f'Altura Invalida. Insira a altura do {cont + 1}º aluno: '))\n",
        "  nome.append(name)\n",
        "  idade.append(age)\n",
        "  altura.append(high)\n",
        "  cont += 1\n",
        "\n",
        "for i in altura:\n",
        "  soma_altura += i\n",
        "\n",
        "media_altura = soma_altura / cont\n",
        "\n",
        "print(f'\\nOs seguintes alunos maiores de 13 anos tem altura inferior a media da turma de {media_altura:.2f}m.')\n",
        "for i in range(x):\n",
        "  if idade[i] > 13:\n",
        "    if altura[i] < media_altura:\n",
        "      print(f'{nome[i]}: {altura[i]:.2f}m')\n",
        "      maistreze += 1\n",
        "\n",
        "print(f'{maistreze} alunos')"
      ],
      "execution_count": null,
      "outputs": [
        {
          "output_type": "stream",
          "name": "stdout",
          "text": [
            "Insira o nome do 1º aluno: a\n",
            "Insira a idade do 1º aluno: 15\n",
            "Insira a altura do 1º aluno: 1.30\n",
            "Insira o nome do 2º aluno: b\n",
            "Insira a idade do 2º aluno: 16\n",
            "Insira a altura do 2º aluno: 1.40\n",
            "Insira o nome do 3º aluno: c\n",
            "Insira a idade do 3º aluno: 17\n",
            "Insira a altura do 3º aluno: 1.70\n",
            "Insira o nome do 4º aluno: d\n",
            "Insira a idade do 4º aluno: 12\n",
            "Insira a altura do 4º aluno: 1.20\n",
            "\n",
            "Os seguintes alunos maiores de 13 anos tem altura inferior a media da turma de 1.40m.\n",
            "A: 1.30m\n",
            "B: 1.40m\n"
          ]
        }
      ]
    },
    {
      "cell_type": "code",
      "metadata": {
        "id": "GYWiFrL01UVn"
      },
      "source": [
        ""
      ],
      "execution_count": null,
      "outputs": []
    }
  ]
}